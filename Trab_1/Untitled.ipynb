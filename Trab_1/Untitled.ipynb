{
 "cells": [
  {
   "cell_type": "markdown",
   "metadata": {},
   "source": [
    "## 1. Vehicle Routing Problem"
   ]
  },
  {
   "cell_type": "code",
   "execution_count": 2,
   "metadata": {
    "collapsed": true
   },
   "outputs": [],
   "source": [
    "import numpy as np\n",
    "from Numberjack import *\n"
   ]
  },
  {
   "cell_type": "markdown",
   "metadata": {},
   "source": [
    "a) rede de estradas <=> grafo orientado"
   ]
  },
  {
   "cell_type": "code",
   "execution_count": null,
   "metadata": {
    "collapsed": true
   },
   "outputs": [],
   "source": []
  },
  {
   "cell_type": "markdown",
   "metadata": {},
   "source": [
    "b)  $C_{i,j}$ e $t_{i,j}$"
   ]
  },
  {
   "cell_type": "code",
   "execution_count": null,
   "metadata": {
    "collapsed": true
   },
   "outputs": [],
   "source": []
  },
  {
   "cell_type": "markdown",
   "metadata": {},
   "source": [
    "c) Restrições"
   ]
  },
  {
   "cell_type": "code",
   "execution_count": null,
   "metadata": {
    "collapsed": true
   },
   "outputs": [],
   "source": []
  },
  {
   "cell_type": "markdown",
   "metadata": {},
   "source": [
    "## 2. Sudoku"
   ]
  },
  {
   "cell_type": "code",
   "execution_count": 3,
   "metadata": {},
   "outputs": [],
   "source": [
    "from math import *\n",
    "\n",
    "N = 3\n",
    "NS = N*N\n",
    "Gre = Matrix(NS,NS,1,NS)\n",
    "model = Model()\n",
    "\n",
    "### todos os pequenos quadrados têm diferentes números\n",
    "        \n",
    "### todas as linhas têm diferentes números\n",
    "\n",
    "### todas as colunas têm diferentes números\n"
   ]
  },
  {
   "cell_type": "markdown",
   "metadata": {},
   "source": [
    "Preencher a Grelha\n",
    "todos os pequenos quadrados têm diferentes números\n",
    "\n",
    "        \n",
    "todas as linhas têm diferentes números\n",
    "\n",
    "$\\forall_{i< N²}\\forall_{j\\leq N²}\\forall_{j<j2\\leq N²}\\big(M[i,j] != M[i,j2] \\big)$\n",
    "\n",
    "todas as colunas têm diferentes números\n",
    "\n",
    "$\\forall_{i< N²}\\forall_{i<i2\\leq N²}\\forall_{j\\leq N²}\\big(M[i,j] != M[i2,j] \\big)$\n"
   ]
  },
  {
   "cell_type": "code",
   "execution_count": null,
   "metadata": {
    "collapsed": true
   },
   "outputs": [],
   "source": []
  },
  {
   "cell_type": "markdown",
   "metadata": {},
   "source": [
    "Resolver"
   ]
  },
  {
   "cell_type": "code",
   "execution_count": 4,
   "metadata": {},
   "outputs": [
    {
     "name": "stdout",
     "output_type": "stream",
     "text": [
      "[[x0.0 in {1..9}, x0.1 in {1..9}, x0.2 in {1..9}, x0.3 in {1..9}, x0.4 in {1..9}, x0.5 in {1..9}, x0.6 in {1..9}, x0.7 in {1..9}, x0.8 in {1..9}],\n",
      " [x1.0 in {1..9}, x1.1 in {1..9}, x1.2 in {1..9}, x1.3 in {1..9}, x1.4 in {1..9}, x1.5 in {1..9}, x1.6 in {1..9}, x1.7 in {1..9}, x1.8 in {1..9}],\n",
      " [x2.0 in {1..9}, x2.1 in {1..9}, x2.2 in {1..9}, x2.3 in {1..9}, x2.4 in {1..9}, x2.5 in {1..9}, x2.6 in {1..9}, x2.7 in {1..9}, x2.8 in {1..9}],\n",
      " [x3.0 in {1..9}, x3.1 in {1..9}, x3.2 in {1..9}, x3.3 in {1..9}, x3.4 in {1..9}, x3.5 in {1..9}, x3.6 in {1..9}, x3.7 in {1..9}, x3.8 in {1..9}],\n",
      " [x4.0 in {1..9}, x4.1 in {1..9}, x4.2 in {1..9}, x4.3 in {1..9}, x4.4 in {1..9}, x4.5 in {1..9}, x4.6 in {1..9}, x4.7 in {1..9}, x4.8 in {1..9}],\n",
      " [x5.0 in {1..9}, x5.1 in {1..9}, x5.2 in {1..9}, x5.3 in {1..9}, x5.4 in {1..9}, x5.5 in {1..9}, x5.6 in {1..9}, x5.7 in {1..9}, x5.8 in {1..9}],\n",
      " [x6.0 in {1..9}, x6.1 in {1..9}, x6.2 in {1..9}, x6.3 in {1..9}, x6.4 in {1..9}, x6.5 in {1..9}, x6.6 in {1..9}, x6.7 in {1..9}, x6.8 in {1..9}],\n",
      " [x7.0 in {1..9}, x7.1 in {1..9}, x7.2 in {1..9}, x7.3 in {1..9}, x7.4 in {1..9}, x7.5 in {1..9}, x7.6 in {1..9}, x7.7 in {1..9}, x7.8 in {1..9}],\n",
      " [x8.0 in {1..9}, x8.1 in {1..9}, x8.2 in {1..9}, x8.3 in {1..9}, x8.4 in {1..9}, x8.5 in {1..9}, x8.6 in {1..9}, x8.7 in {1..9}, x8.8 in {1..9}]]\n"
     ]
    }
   ],
   "source": [
    "model.load('SCIP').solve()\n",
    "\n",
    "print(Gre)"
   ]
  }
 ],
 "metadata": {
  "kernelspec": {
   "display_name": "Python 3",
   "language": "python",
   "name": "python3"
  },
  "language_info": {
   "codemirror_mode": {
    "name": "ipython",
    "version": 3
   },
   "file_extension": ".py",
   "mimetype": "text/x-python",
   "name": "python",
   "nbconvert_exporter": "python",
   "pygments_lexer": "ipython3",
   "version": "3.6.2"
  }
 },
 "nbformat": 4,
 "nbformat_minor": 2
}
