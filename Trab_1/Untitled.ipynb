{
 "cells": [
  {
   "cell_type": "markdown",
   "metadata": {},
   "source": [
    "## 1. Vehicle Routing Problem"
   ]
  },
  {
   "cell_type": "code",
   "execution_count": 16,
   "metadata": {
    "collapsed": true
   },
   "outputs": [],
   "source": [
    "import numpy as np\n",
    "from Numberjack import *\n"
   ]
  },
  {
   "cell_type": "markdown",
   "metadata": {},
   "source": [
    "a) rede de estradas <=> grafo orientado"
   ]
  },
  {
   "cell_type": "code",
   "execution_count": null,
   "metadata": {
    "collapsed": true
   },
   "outputs": [],
   "source": []
  },
  {
   "cell_type": "markdown",
   "metadata": {},
   "source": [
    "b)  $C_{i,j}$ e $t_{i,j}$"
   ]
  },
  {
   "cell_type": "code",
   "execution_count": null,
   "metadata": {
    "collapsed": true
   },
   "outputs": [],
   "source": []
  },
  {
   "cell_type": "markdown",
   "metadata": {},
   "source": [
    "c) Restrições"
   ]
  },
  {
   "cell_type": "code",
   "execution_count": null,
   "metadata": {
    "collapsed": true
   },
   "outputs": [],
   "source": []
  },
  {
   "cell_type": "markdown",
   "metadata": {},
   "source": [
    "## 2. Sudoku"
   ]
  },
  {
   "cell_type": "code",
   "execution_count": 17,
   "metadata": {},
   "outputs": [],
   "source": [
    "from math import *\n",
    "\n",
    "N = 3\n",
    "NS = N*N\n",
    "Gre = Matrix(NS,NS,1,NS)\n",
    "model = Model()\n",
    "\n",
    "\n",
    "## Popular a Grelha de Sudoku\n",
    "\n",
    "\n"
   ]
  },
  {
   "cell_type": "markdown",
   "metadata": {},
   "source": [
    "\n",
    "Preencher a Grelha\n",
    "todos os pequenos quadrados têm diferentes números\n",
    "\n",
    "$\\forall_{i< N²}\\forall_{j< N²}\\forall_{i<i2\\leq N²}\n",
    "\\forall_{j<j2\\leq N²}\\big(M[i,j] =M[i2,j2] \\Rightarrow \\big(i/N \\neq i2/N\\big) \\vee \\big(j/N \\neq j2/N\\big)  \\big)$\n",
    "        \n",
    "todas as linhas têm diferentes números\n",
    "\n",
    "$\\forall_{i\\leq N²}\\forall_{j< N²}\\forall_{j<j2\\leq N²}\\big(M[i,j] \\neq M[i,j2] \\big)$\n",
    "\n",
    "todas as colunas têm diferentes números\n",
    "\n",
    "$\\forall_{i< N²}\\forall_{i<i2\\leq N²}\\forall_{j\\leq N²}\\big(M[i,j] \\neq M[i2,j] \\big)$\n"
   ]
  },
  {
   "cell_type": "code",
   "execution_count": 18,
   "metadata": {
    "collapsed": true
   },
   "outputs": [],
   "source": [
    "for i in range(N):\n",
    "    for j in range(N):\n",
    "        model.add(AllDiff(Gre[i*N:(i+1)*N,j*N:(j+1)*N].flat))\n",
    "        model.add(AllDiff(Gre[i*N+j]))\n",
    "        model.add(AllDiff(Gre.col[i*N+j]))\n",
    "\n"
   ]
  },
  {
   "cell_type": "markdown",
   "metadata": {},
   "source": [
    "Resolver"
   ]
  },
  {
   "cell_type": "code",
   "execution_count": 19,
   "metadata": {},
   "outputs": [
    {
     "name": "stdout",
     "output_type": "stream",
     "text": [
      "[[9, 1, 8, 2, 4, 3, 5, 7, 6],\n",
      " [2, 6, 3, 1, 7, 5, 8, 9, 4],\n",
      " [7, 5, 4, 9, 8, 6, 2, 3, 1],\n",
      " [6, 7, 1, 3, 2, 4, 9, 8, 5],\n",
      " [4, 9, 5, 8, 1, 7, 6, 2, 3],\n",
      " [8, 3, 2, 5, 6, 9, 4, 1, 7],\n",
      " [5, 8, 7, 4, 9, 1, 3, 6, 2],\n",
      " [1, 4, 9, 6, 3, 2, 7, 5, 8],\n",
      " [3, 2, 6, 7, 5, 8, 1, 4, 9]]\n"
     ]
    }
   ],
   "source": [
    "model.load('SCIP').solve()\n",
    "\n",
    "print(Gre)"
   ]
  }
 ],
 "metadata": {
  "kernelspec": {
   "display_name": "Python 3",
   "language": "python",
   "name": "python3"
  },
  "language_info": {
   "codemirror_mode": {
    "name": "ipython",
    "version": 3
   },
   "file_extension": ".py",
   "mimetype": "text/x-python",
   "name": "python",
   "nbconvert_exporter": "python",
   "pygments_lexer": "ipython3",
   "version": "3.5.2"
  }
 },
 "nbformat": 4,
 "nbformat_minor": 2
}
