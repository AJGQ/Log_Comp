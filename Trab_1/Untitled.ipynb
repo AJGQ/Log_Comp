{
 "cells": [
  {
   "cell_type": "markdown",
   "metadata": {},
   "source": [
    "## 1. Vehicle Routing Problem"
   ]
  },
  {
   "cell_type": "code",
   "execution_count": 24,
   "metadata": {
    "collapsed": true
   },
   "outputs": [],
   "source": [
    "import numpy as np\n",
    "from Numberjack import *\n"
   ]
  },
  {
   "cell_type": "markdown",
   "metadata": {},
   "source": [
    "a) rede de estradas <=> grafo orientado"
   ]
  },
  {
   "cell_type": "code",
   "execution_count": null,
   "metadata": {
    "collapsed": true
   },
   "outputs": [],
   "source": []
  },
  {
   "cell_type": "markdown",
   "metadata": {},
   "source": [
    "b)  $C_{i,j}$ e $t_{i,j}$"
   ]
  },
  {
   "cell_type": "code",
   "execution_count": null,
   "metadata": {
    "collapsed": true
   },
   "outputs": [],
   "source": []
  },
  {
   "cell_type": "markdown",
   "metadata": {},
   "source": [
    "c) Restrições"
   ]
  },
  {
   "cell_type": "code",
   "execution_count": null,
   "metadata": {
    "collapsed": true
   },
   "outputs": [],
   "source": []
  },
  {
   "cell_type": "markdown",
   "metadata": {},
   "source": [
    "## 2. Sudoku"
   ]
  },
  {
   "cell_type": "code",
   "execution_count": 25,
   "metadata": {},
   "outputs": [],
   "source": [
    "from math import *\n",
    "\n",
    "N = 3\n",
    "NS = N*N\n",
    "Gre = Matrix(NS,NS,1,NS)\n",
    "model = Model()\n",
    "\n",
    "### todos os pequenos quadrados têm diferentes números\n",
    "        \n",
    "### todas as linhas têm diferentes números\n",
    "### todas as colunas têm diferentes números\n"
   ]
  },
  {
   "cell_type": "markdown",
   "metadata": {},
   "source": [
    "Preencher a Grelha"
   ]
  },
  {
   "cell_type": "code",
   "execution_count": null,
   "metadata": {
    "collapsed": true
   },
   "outputs": [],
   "source": []
  },
  {
   "cell_type": "markdown",
   "metadata": {},
   "source": [
    "Resolver"
   ]
  },
  {
   "cell_type": "code",
   "execution_count": 26,
   "metadata": {},
   "outputs": [
    {
     "name": "stdout",
     "output_type": "stream",
     "text": [
      "[[5, 9, 6, 7, 1, 4, 2, 8, 3],\n",
      " [4, 8, 1, 2, 3, 5, 9, 6, 7],\n",
      " [7, 3, 2, 8, 6, 9, 5, 4, 1],\n",
      " [6, 1, 8, 5, 7, 2, 4, 3, 9],\n",
      " [9, 5, 4, 1, 8, 3, 7, 2, 6],\n",
      " [2, 7, 3, 9, 4, 6, 1, 5, 8],\n",
      " [3, 6, 7, 4, 5, 1, 8, 9, 2],\n",
      " [8, 4, 9, 3, 2, 7, 6, 1, 5],\n",
      " [1, 2, 5, 6, 9, 8, 3, 7, 4]]\n"
     ]
    }
   ],
   "source": [
    "model.load('SCIP').solve()\n",
    "\n",
    "print(Gre)"
   ]
  }
 ],
 "metadata": {
  "kernelspec": {
   "display_name": "Python 3",
   "language": "python",
   "name": "python3"
  },
  "language_info": {
   "codemirror_mode": {
    "name": "ipython",
    "version": 3
   },
   "file_extension": ".py",
   "mimetype": "text/x-python",
   "name": "python",
   "nbconvert_exporter": "python",
   "pygments_lexer": "ipython3",
   "version": "3.5.2"
  }
 },
 "nbformat": 4,
 "nbformat_minor": 2
}
