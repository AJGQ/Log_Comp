{
 "cells": [
  {
   "cell_type": "markdown",
   "metadata": {},
   "source": [
    "# Parte A\n",
    "\n",
    "## Sistema de paragem ABS"
   ]
  },
  {
   "cell_type": "code",
   "execution_count": null,
   "metadata": {
    "collapsed": true
   },
   "outputs": [],
   "source": []
  },
  {
   "cell_type": "code",
   "execution_count": null,
   "metadata": {
    "collapsed": true
   },
   "outputs": [],
   "source": []
  },
  {
   "cell_type": "code",
   "execution_count": null,
   "metadata": {
    "collapsed": true
   },
   "outputs": [],
   "source": []
  },
  {
   "cell_type": "code",
   "execution_count": null,
   "metadata": {
    "collapsed": true
   },
   "outputs": [],
   "source": []
  },
  {
   "cell_type": "markdown",
   "metadata": {},
   "source": [
    "# Parte B\n",
    "\n",
    "## Codificar o algoritmo de Euclides da questao 2 do Trabalho 2\n",
    "\n",
    "0: $assert\\quad a > 0\\quad and\\quad b > 0$  \n",
    "1: $while\\quad a > 0\\quad and\\quad b > 0:$  \n",
    "2: $\\hspace{1cm}if\\quad b > a$  \n",
    "3: $\\hspace{2cm}b = b - a$  \n",
    "4: $\\hspace{1cm}else:$  \n",
    "5: $\\hspace{2cm}a = a - b$    \n",
    "6: $pass$ \n",
    "\n",
    "\n",
    "## Código em 'comandos anotados'\n",
    "\n",
    "```\n",
    "# pré-condição:\n",
    "assume a > 0  and  b > 0\n",
    "x := a\n",
    "y := b \n",
    "\n",
    "# condição para a entrada no ciclo:\n",
    "assert INV(x,y)\n",
    "\n",
    "# condição para cada iteracção: \n",
    "havoc x , y\n",
    "assume INV(x,y)\n",
    "\n",
    "\n",
    "if x = 0:\n",
    "    # condição para a saída do ciclo (pós-condição)\n",
    "    assert INV(x,y) and (y = gcd(a,b))\n",
    "    assume false\n",
    "else:\n",
    "    if y > x:\n",
    "        y := y - x\n",
    "    else:\n",
    "        x := x - y\n",
    "        \n",
    "    # condição para a saída de iteracção:\n",
    "    assert INV(x,y)\n",
    "```"
   ]
  },
  {
   "cell_type": "markdown",
   "metadata": {},
   "source": [
    "## INV:\n",
    "O nosso invariante será:"
   ]
  },
  {
   "cell_type": "code",
   "execution_count": null,
   "metadata": {
    "collapsed": true
   },
   "outputs": [],
   "source": [
    "def INV(x,y):\n",
    "    F = x>=0 and y>0 "
   ]
  },
  {
   "cell_type": "code",
   "execution_count": null,
   "metadata": {
    "collapsed": true
   },
   "outputs": [],
   "source": [
    "'''vou precisar de um x e de um y\n",
    "X = nounce('X',Bez)\n",
    "Y = nounce('Y',Bez)\n",
    "'''\n",
    "\n",
    "def spc(f):\n",
    "    return simplify(B0(B1(B2(f))))\n",
    "\n",
    "def B0(f):\n",
    "    A = variavel fresca ;  B = variavel fresca\n",
    "    F= And(a > 0 , b > 0, f)\n",
    "    Q= And(substitute(F,(X,A),(Y,B)),X==substitute(a,(X,A),Y==substitute(b,(Y,B))))\n",
    "    return Implies(Q,INV(X,Y))\n",
    "                   \n",
    "def B1(f):\n",
    "    A = variavel fresca ;  B = variavel fresca\n",
    "    Q= And(substitute(f,(X,A),(Y,B)),X==A,Y==B)\n",
    "    return And(Q,INV(X,Y))\n",
    "\n",
    "\n",
    "def B2(f):\n",
    "    A = variavel fresca ;  B = variavel fresca\n",
    "    return ite = And(\n",
    "                And(f,And(Implies( X == 0 ,INV(X,Y)),False)\n",
    "                    )\n",
    "                ,And(f,\n",
    "                    And( X != 0 , Y > X, And(substitute(f,(Y,B)),Y == substitute(Y-X,(Y,B)))\n",
    "                       )\n",
    "                 \n",
    "                    ,And( X != 0 , Y <= X,And(substitute(f,(X,A)),X == substitute(X-Y,(X,A)))\n",
    "                        )\n",
    "                    )\n",
    "    \n",
    "                )\n",
    "            \n",
    "    \n",
    "  \n",
    "'''\n",
    "# para provar que 'wpc(true)' é tautologia, prova-se que a sua negação é inconsistente\n",
    "true = BoolVal(True)\n",
    "refutation = Not(wpc(true))\n",
    "'''\n"
   ]
  }
 ],
 "metadata": {
  "kernelspec": {
   "display_name": "Python 3",
   "language": "python",
   "name": "python3"
  },
  "language_info": {
   "codemirror_mode": {
    "name": "ipython",
    "version": 3
   },
   "file_extension": ".py",
   "mimetype": "text/x-python",
   "name": "python",
   "nbconvert_exporter": "python",
   "pygments_lexer": "ipython3",
   "version": "3.6.2"
  }
 },
 "nbformat": 4,
 "nbformat_minor": 2
}
