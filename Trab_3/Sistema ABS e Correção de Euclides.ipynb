{
 "cells": [
  {
   "cell_type": "markdown",
   "metadata": {},
   "source": [
    "# Parte A\n",
    "\n",
    "## Sistema de paragem ABS"
   ]
  },
  {
   "cell_type": "code",
   "execution_count": 36,
   "metadata": {
    "collapsed": true
   },
   "outputs": [],
   "source": [
    "from z3 import *\n",
    "import sys, os"
   ]
  },
  {
   "cell_type": "code",
   "execution_count": 37,
   "metadata": {},
   "outputs": [],
   "source": [
    "Modes, (Start, Free, Stopping, Blocked, Stopped) = EnumSort('Modes',['Start', 'Free', 'Stopping', 'Blocked', 'Stopped'])\n",
    "Events, (start, goStopping, goFree, goBlocked, goStopped , alive , dead) =  \\\n",
    "    EnumSort('Events',['start', 'goStopping', 'goFree', 'goBlocked', 'goStopped' , 'alive' , 'dead'])\n",
    "    \n"
   ]
  },
  {
   "cell_type": "code",
   "execution_count": 38,
   "metadata": {
    "collapsed": true
   },
   "outputs": [],
   "source": [
    "N=10\n",
    "vv   = RealVector('vv', N+1) #velocidade do veiculo\n",
    "vr   = RealVector('vr', N+1) #velocidade das rodas\n",
    "temp = RealVector('t', N+1) #velocidade das rodas\n",
    "modes  = AstVector() ; modes.resize(N+1)\n",
    "events = AstVector() ; events.resize(N+1)\n",
    "\n",
    "for k in range(N+1):\n",
    "    modes[k] = Const('md_'+str(k), Modes)\n",
    "\n",
    "for k in range(N+1):\n",
    "    events[k] = Const('ev_'+str(k), Events)\n",
    "\n",
    "def S(k):\n",
    "    return (vv[k],vr[k],temp[k],modes[k])\n",
    "\n",
    "def E(k):\n",
    "    return events[k]"
   ]
  },
  {
   "cell_type": "code",
   "execution_count": 39,
   "metadata": {},
   "outputs": [],
   "source": [
    "def init(S):\n",
    "    (V,R,T,M) = S \n",
    "    return And(R <= V, M == Start)"
   ]
  },
  {
   "cell_type": "code",
   "execution_count": 40,
   "metadata": {
    "collapsed": true
   },
   "outputs": [],
   "source": [
    "def inv(S):\n",
    "    (V,R,T,M) = S \n",
    "    return And(Implies( M == Start    , T == 0              ),\n",
    "               Implies( M == Free     , V >= R              ),\n",
    "               Implies( M == Stopping , And(R >= 0, V >= R) ),\n",
    "               Implies( M == Blocked  , And(R == 0, V >= 0) ),\n",
    "               Implies( M == Stopped  , And(V == R, R == 0) )\n",
    "             )"
   ]
  },
  {
   "cell_type": "code",
   "execution_count": 41,
   "metadata": {
    "collapsed": true
   },
   "outputs": [],
   "source": [
    "def timed(S,S_,E):\n",
    "    (V,R,T,M) = S ; (V_,R_,T_,M_) = S_ \n",
    "    return And( E == alive, \n",
    "                M == M_,\n",
    "                T_ > T,\n",
    "                Implies( M == Start    , And(V == V_, R == R_)                                        ),\n",
    "                Implies( M == Free     , And((V_ - V) + Fd*(T_ - T) == 0, (R_ - R) - c*(T_ - T) == 0) ),\n",
    "                Implies( M == Stopping , And((V_ - V) + a*(T_ - T) == 0, (R_ - R) + b*(T_ - T) == 0)  ),\n",
    "                Implies( M == Blocked  , And((V_ - V) + Fe*(T_ - T) == 0, R == R_, R == 0)            ),\n",
    "                Implies( M == Stopped  , And(V == V_, R == R_)                                        )\n",
    "              ) "
   ]
  },
  {
   "cell_type": "code",
   "execution_count": null,
   "metadata": {
    "collapsed": true
   },
   "outputs": [],
   "source": [
    "#-----------------------\n",
    "def untimed(S,S_,E):\n",
    "    (V,R,T,M) = S ; (V_,R_,T_,M_) = S_ \n",
    "    return And( V == V_,\n",
    "                R == R_,\n",
    "                T == T_,\n",
    "                Implies( M == Init  , And(M_==Fill, T_ == T, E == initialize, Y == 0)),\n",
    "                Implies( M == Fill  , And(M_ == Stop, T_ == 0, E == goStop, Y == 10)),\n",
    "                Implies( M == Drain , And(M_ == Start, T_ == 0, E == goStart, Y == 5)),\n",
    "                Implies( M == Start , And(M_ == Fill, T_ == T, E == goFill, T == 2)),\n",
    "                Implies( M == Stop  , And(M_ == Drain, T_ == T, E == goDrain, T == 2))\n",
    "              )"
   ]
  },
  {
   "cell_type": "code",
   "execution_count": null,
   "metadata": {
    "collapsed": true
   },
   "outputs": [],
   "source": [
    "def blocked(S,S_,E): \n",
    "    (Y,T,M) = S ; (Y_,T_,M_) = S_ \n",
    "    return  And(E == dead, Y_ == Y, T_ == T, M_ == M)"
   ]
  },
  {
   "cell_type": "code",
   "execution_count": null,
   "metadata": {
    "collapsed": true
   },
   "outputs": [],
   "source": [
    "def trans(S,S_,E): \n",
    "    return Or(blocked(S,S_,E), timed(S,S_,E), untimed(S,S_,E))"
   ]
  },
  {
   "cell_type": "code",
   "execution_count": null,
   "metadata": {
    "collapsed": true
   },
   "outputs": [],
   "source": []
  },
  {
   "cell_type": "code",
   "execution_count": null,
   "metadata": {
    "collapsed": true
   },
   "outputs": [],
   "source": []
  },
  {
   "cell_type": "markdown",
   "metadata": {},
   "source": [
    "# Parte B\n",
    "\n",
    "## Codificar o algoritmo de Euclides da questao 2 do Trabalho 2\n",
    "\n",
    "0: $assert\\quad a > 0\\quad and\\quad b > 0$  \n",
    "1: $while\\quad a > 0\\quad and\\quad b > 0:$  \n",
    "2: $\\hspace{1cm}if\\quad b > a$  \n",
    "3: $\\hspace{2cm}b = b - a$  \n",
    "4: $\\hspace{1cm}else:$  \n",
    "5: $\\hspace{2cm}a = a - b$    \n",
    "6: $pass$ \n",
    "\n",
    "\n",
    "## Código em 'comandos anotados'\n",
    "\n",
    "```\n",
    "# pré-condição:\n",
    "assume a > 0  and  b > 0;\n",
    "x := a;\n",
    "y := b;\n",
    "\n",
    "# condição para a entrada no ciclo:\n",
    "assert INV(x,y);\n",
    "\n",
    "# condição para cada iteracção: \n",
    "havoc x;\n",
    "havoc y;\n",
    "assume INV(x,y);\n",
    "\n",
    "\n",
    "if x = 0:\n",
    "    # condição para a saída do ciclo (pós-condição)\n",
    "    assert INV(x,y) and (y = gcd(a,b));\n",
    "    assume false\n",
    "else:\n",
    "    if y > x:\n",
    "        y := y - x\n",
    "    else:\n",
    "        x := x - y\n",
    "    ;\n",
    "    # condição para a saída de iteracção:\n",
    "    assert INV(x,y)\n",
    "```"
   ]
  },
  {
   "cell_type": "code",
   "execution_count": null,
   "metadata": {
    "collapsed": true
   },
   "outputs": [],
   "source": []
  },
  {
   "cell_type": "markdown",
   "metadata": {},
   "source": [
    "## INV:\n",
    "O nosso invariante será:"
   ]
  },
  {
   "cell_type": "code",
   "execution_count": 22,
   "metadata": {
    "collapsed": true
   },
   "outputs": [],
   "source": [
    "def INV(x,y):\n",
    "    F = x>=0 and y>0 "
   ]
  },
  {
   "cell_type": "code",
   "execution_count": 23,
   "metadata": {},
   "outputs": [
    {
     "ename": "SyntaxError",
     "evalue": "invalid syntax (<ipython-input-23-b498ecd8cbc0>, line 16)",
     "output_type": "error",
     "traceback": [
      "\u001b[0;36m  File \u001b[0;32m\"<ipython-input-23-b498ecd8cbc0>\"\u001b[0;36m, line \u001b[0;32m16\u001b[0m\n\u001b[0;31m    A = variavel fresca ;  B = variavel fresca\u001b[0m\n\u001b[0m                      ^\u001b[0m\n\u001b[0;31mSyntaxError\u001b[0m\u001b[0;31m:\u001b[0m invalid syntax\n"
     ]
    }
   ],
   "source": [
    "import random \n",
    "\n",
    "def nounce(pref,srt=BoolSort()):\n",
    "    n = hex(hash(random.random()))[-6:-2]   # \n",
    "    return Const(pref + n, srt)\n",
    "\n",
    "'''vou precisar de um x e de um y\n",
    "X = nounce('X',Bez)\n",
    "Y = nounce('Y',Bez)\n",
    "'''\n",
    "\n",
    "def spc(f):\n",
    "    return simplify(B0(B1(B2(f))))\n",
    "\n",
    "def B0(f):\n",
    "    A = variavel fresca ;  B = variavel fresca\n",
    "    F= And(a > 0 , b > 0, f)\n",
    "    Q= And(substitute(F,(X,A),(Y,B)),X==substitute(a,(X,A),Y==substitute(b,(Y,B))))\n",
    "    return Implies(Q,INV(X,Y))\n",
    "                   \n",
    "def B1(f):\n",
    "    A = variavel fresca ;  B = variavel fresca\n",
    "    Q= And(substitute(f,(X,A),(Y,B)),X==A,Y==B)\n",
    "    return And(Q,INV(X,Y))\n",
    "\n",
    "\n",
    "def B2(f):\n",
    "    A = variavel fresca ;  B = variavel fresca\n",
    "    return ite = And(\n",
    "                And(f,And(Implies( X == 0 ,INV(X,Y)),False)\n",
    "                    )\n",
    "                ,And(f,\n",
    "                    And( X != 0 , Y > X, And(substitute(f,(Y,B)),Y == substitute(Y-X,(Y,B)))\n",
    "                       )\n",
    "                 \n",
    "                    ,And( X != 0 , Y <= X,And(substitute(f,(X,A)),X == substitute(X-Y,(X,A)))\n",
    "                        )\n",
    "                    )\n",
    "    \n",
    "                )\n",
    "            \n",
    "    \n",
    "  \n",
    "'''\n",
    "# para provar que 'wpc(true)' é tautologia, prova-se que a sua negação é inconsistente\n",
    "true = BoolVal(True)\n",
    "refutation = Not(wpc(true))\n",
    "'''\n"
   ]
  }
 ],
 "metadata": {
  "kernelspec": {
   "display_name": "Python 3",
   "language": "python",
   "name": "python3"
  },
  "language_info": {
   "codemirror_mode": {
    "name": "ipython",
    "version": 3
   },
   "file_extension": ".py",
   "mimetype": "text/x-python",
   "name": "python",
   "nbconvert_exporter": "python",
   "pygments_lexer": "ipython3",
   "version": "3.5.2"
  }
 },
 "nbformat": 4,
 "nbformat_minor": 2
}
