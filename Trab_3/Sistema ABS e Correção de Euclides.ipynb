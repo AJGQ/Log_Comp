{
 "cells": [
  {
   "cell_type": "markdown",
   "metadata": {},
   "source": [
    "# Parte A\n",
    "\n",
    "## Sistema de paragem ABS\n",
    "\n",
    "\n",
    "1. Defina um autómato híbrido que descreva a dinâmica do sistema de travagem ABS. Modele em lógica temporal LT  propriedades que, na sua opinião, caracterizam o comportamento desejável do sistema.\n",
    "2. Codifique em SMT’s o modelo que definiu em 1.\n",
    "3. Codifique a verificação das propriedades temporais que definiu em 1 ."
   ]
  },
  {
   "cell_type": "code",
   "execution_count": 70,
   "metadata": {
    "collapsed": true
   },
   "outputs": [],
   "source": [
    "from z3 import *\n",
    "import sys, os"
   ]
  },
  {
   "cell_type": "code",
   "execution_count": 71,
   "metadata": {
    "collapsed": true
   },
   "outputs": [],
   "source": [
    "Modes, (Start, Free, Stopping, Blocked, Stopped) = EnumSort('Modes',['Start', 'Free', 'Stopping', 'Blocked', 'Stopped'])\n",
    "Events, (start, goStopping, goFree, goBlocked, goStopped , alive , dead) =  \\\n",
    "    EnumSort('Events',['start', 'goStopping', 'goFree', 'goBlocked', 'goStopped' , 'alive' , 'dead'])\n",
    "    \n"
   ]
  },
  {
   "cell_type": "code",
   "execution_count": 72,
   "metadata": {},
   "outputs": [],
   "source": [
    "N = 10\n",
    "Fd = 0.1\n",
    "Fe = 1\n",
    "VP = 2\n",
    "a = 0.5\n",
    "b = 1\n",
    "c = 1\n",
    "vv   = RealVector('vv', N+1) #velocidade do veiculo\n",
    "vr   = RealVector('vr', N+1) #velocidade das rodas\n",
    "temp = RealVector('t', N+1) #velocidade das rodas\n",
    "modes  = AstVector() ; modes.resize(N+1)\n",
    "events = AstVector() ; events.resize(N+1)\n",
    "\n",
    "for k in range(N+1):\n",
    "    modes[k] = Const('md_'+str(k), Modes)\n",
    "\n",
    "for k in range(N+1):\n",
    "    events[k] = Const('ev_'+str(k), Events)\n",
    "\n",
    "def S(k):\n",
    "    return (vv[k],vr[k],temp[k],modes[k])\n",
    "\n",
    "def E(k):\n",
    "    return events[k]"
   ]
  },
  {
   "cell_type": "code",
   "execution_count": 73,
   "metadata": {
    "collapsed": true
   },
   "outputs": [],
   "source": [
    "def init(S):\n",
    "    (V,R,T,M) = S \n",
    "    return And(R <= V, M == Start)"
   ]
  },
  {
   "cell_type": "code",
   "execution_count": 74,
   "metadata": {
    "collapsed": true
   },
   "outputs": [],
   "source": [
    "def inv(S):\n",
    "    (V,R,T,M) = S \n",
    "    return And(Implies( M == Start    , T == 0              ),\n",
    "               Implies( M == Free     , V >= R              ),\n",
    "               Implies( M == Stopping , And(R >= 0, V >= R) ),\n",
    "               Implies( M == Blocked  , And(R == 0, V >= 0) ),\n",
    "               Implies( M == Stopped  , And(V == R, R == 0) )\n",
    "             )"
   ]
  },
  {
   "cell_type": "code",
   "execution_count": 75,
   "metadata": {
    "collapsed": true
   },
   "outputs": [],
   "source": [
    "def timed(S,S_,E):\n",
    "    (V,R,T,M) = S ; (V_,R_,T_,M_) = S_ \n",
    "    return And( E == alive, \n",
    "                M == M_,\n",
    "                T_ > T,\n",
    "                Implies( M == Start    , And(V == V_, R == R_)                                        ),\n",
    "                Implies( M == Free     , And((V_ - V) + Fd*(T_ - T) == 0, (R_ - R) - c*(T_ - T) == 0) ),\n",
    "                Implies( M == Stopping , And((V_ - V) + a*(T_ - T) == 0, (R_ - R) + b*(T_ - T) == 0)  ),\n",
    "                Implies( M == Blocked  , And((V_ - V) + Fe*(T_ - T) == 0, R == R_, R == 0)            ),\n",
    "                Implies( M == Stopped  , And(V == V_, R == R_)                                        )\n",
    "              ) "
   ]
  },
  {
   "cell_type": "code",
   "execution_count": 76,
   "metadata": {},
   "outputs": [],
   "source": [
    "#-----------------------\n",
    "def untimed(S,S_,E):\n",
    "    (V,R,T,M) = S ; (V_,R_,T_,M_) = S_ \n",
    "    return And( V == V_,\n",
    "                R == R_,\n",
    "                T == T_,\n",
    "                E != dead,\n",
    "                E != alive,\n",
    "                Implies( E == start      , And( M == Start    , M_ == Free     , R <= V      )),\n",
    "                Implies( E == goStopping , And( M == Free     , M_ == Stopping , V - R == 0  )),\n",
    "                Implies( E == goFree     , And( M == Stopping , M_ == Free     , V - R >= VP )),\n",
    "                Implies( E == goBlocked  , And( M == Stopping , M_ == Blocked  , R == 0      )),\n",
    "                Implies( E == goStopped  , And( M == Blocked  , M_ == Stopped  , V == 0      ))\n",
    "              )"
   ]
  },
  {
   "cell_type": "code",
   "execution_count": 77,
   "metadata": {
    "collapsed": true
   },
   "outputs": [],
   "source": [
    "def blocked(S,S_,E): \n",
    "    (V,R,T,M) = S ; (V_,R_,T_,M_) = S_ \n",
    "    return  And(E == dead, V_ == V, R_ == R, T_ == T, M_ == M)"
   ]
  },
  {
   "cell_type": "code",
   "execution_count": 78,
   "metadata": {
    "collapsed": true
   },
   "outputs": [],
   "source": [
    "def trans(S,S_,E): \n",
    "    return Or(blocked(S,S_,E), timed(S,S_,E), untimed(S,S_,E))"
   ]
  },
  {
   "cell_type": "code",
   "execution_count": 79,
   "metadata": {},
   "outputs": [
    {
     "name": "stdout",
     "output_type": "stream",
     "text": [
      "sat\n"
     ]
    }
   ],
   "source": [
    "s = Solver()\n",
    "\n",
    "s.add(init(S(0)))\n",
    "\n",
    "for k in range(N-1):\n",
    "    s.add(inv(S(k)))\n",
    "    s.add(trans(S(k),S(k+1),E(k)))  \n",
    "\n",
    "s.add(inv(S(N)))\n",
    "\n",
    "print(s.check())"
   ]
  },
  {
   "cell_type": "code",
   "execution_count": 80,
   "metadata": {},
   "outputs": [
    {
     "name": "stdout",
     "output_type": "stream",
     "text": [
      "0 13/3 7/3 Start\n",
      "--\n",
      "start\n",
      "-->\n",
      "0 13/3 7/3 Free\n",
      "--\n",
      "alive\n",
      "-->\n",
      "5/33 95/22 82/33 Free\n",
      "--\n",
      "alive\n",
      "-->\n",
      "10/33 142/33 29/11 Free\n",
      "--\n",
      "alive\n",
      "-->\n",
      "20/11 137/33 137/33 Free\n",
      "--\n",
      "goStopping\n",
      "-->\n",
      "20/11 137/33 137/33 Stopping\n",
      "--\n",
      "alive\n",
      "-->\n",
      "64/11 71/33 5/33 Stopping\n",
      "--\n",
      "goFree\n",
      "-->\n",
      "64/11 71/33 5/33 Free\n",
      "--\n",
      "dead\n",
      "-->\n",
      "64/11 71/33 5/33 Free\n",
      "--\n",
      "alive\n",
      "-->\n"
     ]
    }
   ],
   "source": [
    "\n",
    "\n",
    "try:\n",
    "    M = s.model()\n",
    "    for z in range(N-1):\n",
    "        print(M[temp[z]], M[vv[z]], M[vr[z]], M[modes[z]])\n",
    "        print('--')\n",
    "        print(M[events[z]])\n",
    "        print('-->')\n",
    "except Z3Exception as ex:\n",
    "    print(\"failed: %s\" % ex)"
   ]
  },
  {
   "cell_type": "markdown",
   "metadata": {},
   "source": [
    "# Verificação de propriedades\n",
    "\n",
    "Verifique as possibilidades de:  \n",
    "\n",
    "* existencia de situacao onde as rodas andam mais que o veiculo;\n",
    "* existencia de situacao onde as rodas andam mais que o 10 de velocidade;\n",
    "\n",
    "\n",
    "\n"
   ]
  },
  {
   "cell_type": "code",
   "execution_count": 81,
   "metadata": {
    "collapsed": true
   },
   "outputs": [],
   "source": [
    "def P1(S):\n",
    "    (V,R,T,M) = S\n",
    "    return R>V \n",
    "\n",
    "def P2(S):\n",
    "    (V,R,T,M) = S\n",
    "    return R>10 \n"
   ]
  },
  {
   "cell_type": "code",
   "execution_count": 82,
   "metadata": {},
   "outputs": [
    {
     "name": "stdout",
     "output_type": "stream",
     "text": [
      "unsat\n"
     ]
    }
   ],
   "source": [
    "s = Solver()\n",
    "\n",
    "s.add(init(S(0)))\n",
    "\n",
    "for k in range(N-1):\n",
    "    s.add(P1(S(k)))\n",
    "    s.add(trans(S(k),S(k+1),E(k)))  \n",
    "\n",
    "s.add(P1(S(N)))\n",
    "\n",
    "print(s.check())"
   ]
  },
  {
   "cell_type": "code",
   "execution_count": 83,
   "metadata": {},
   "outputs": [
    {
     "name": "stdout",
     "output_type": "stream",
     "text": [
      "failed: model is not available\n"
     ]
    }
   ],
   "source": [
    "try:\n",
    "    M = s.model()\n",
    "    for z in range(N-1):\n",
    "        print(M[temp[z]], M[time[z]], M[modes[z]])\n",
    "        print('--')\n",
    "        print(M[events[z]])\n",
    "        print('-->')\n",
    "except Z3Exception as ex:\n",
    "    print(\"failed: %s\" % ex)"
   ]
  },
  {
   "cell_type": "code",
   "execution_count": null,
   "metadata": {
    "collapsed": true
   },
   "outputs": [],
   "source": []
  },
  {
   "cell_type": "code",
   "execution_count": null,
   "metadata": {
    "collapsed": true
   },
   "outputs": [],
   "source": []
  },
  {
   "cell_type": "markdown",
   "metadata": {},
   "source": [
    "# Parte B\n",
    "\n",
    "1. Codifique o programa na linguagem de comandos anotados apresentada nas aulas teóricas.\n",
    "2. Codifique, em SMT’s, a verificação da correcção parcial.\n",
    "\n",
    "## Codificar o algoritmo de Euclides da questao 2 do Trabalho 2\n",
    "\n",
    "0: $assert\\quad a > 0\\quad and\\quad b > 0$  \n",
    "1: $while\\quad a > 0\\quad and\\quad b > 0:$  \n",
    "2: $\\hspace{1cm}if\\quad b > a$  \n",
    "3: $\\hspace{2cm}b = b - a$  \n",
    "4: $\\hspace{1cm}else:$  \n",
    "5: $\\hspace{2cm}a = a - b$    \n",
    "6: $pass$ \n",
    "\n",
    "\n",
    "## Código em 'comandos anotados'\n",
    "\n",
    "```\n",
    "# pré-condição:\n",
    "assume a > 0  and  b > 0;\n",
    "x := a;\n",
    "y := b;\n",
    "\n",
    "# condição para a entrada no ciclo:\n",
    "assert INV(x,y);\n",
    "\n",
    "# condição para cada iteracção: \n",
    "havoc x;\n",
    "havoc y;\n",
    "assume INV(x,y);\n",
    "\n",
    "\n",
    "if x = 0:\n",
    "    # condição para a saída do ciclo (pós-condição)\n",
    "    assert INV(x,y) and (y = gcd(a,b));\n",
    "else:\n",
    "    if y > x:\n",
    "        y := y - x\n",
    "    else:\n",
    "        x := x - y\n",
    "    ;\n",
    "    # condição para a saída de iteracção:\n",
    "    assert INV(x,y)\n",
    "```"
   ]
  },
  {
   "cell_type": "markdown",
   "metadata": {},
   "source": [
    "###  Invariante\n",
    "\n",
    "```\n",
    "INV(x,y)  define-se como \n",
    "    x>=0 and y>0\n",
    "```"
   ]
  },
  {
   "cell_type": "markdown",
   "metadata": {
    "collapsed": true
   },
   "source": [
    "### Semântica da função 'gcd' expressa na tautologia  GCD\n",
    "\n",
    "\n",
    "```\n",
    "GCD <==> forall x,y : INV(x,y) and (x equiv y)  ==>  y_3 = gcd(a,b)\n",
    "\n",
    "(x equiv y)  <==>  x_3 % y_3 = 0    \n",
    "```"
   ]
  },
  {
   "cell_type": "markdown",
   "metadata": {},
   "source": [
    "## INV:\n",
    "O nosso invariante será:"
   ]
  },
  {
   "cell_type": "code",
   "execution_count": 84,
   "metadata": {
    "collapsed": true
   },
   "outputs": [],
   "source": [
    "def INV(x,y):\n",
    "    return And(x>=0, y>0) "
   ]
  },
  {
   "cell_type": "code",
   "execution_count": 85,
   "metadata": {
    "collapsed": true
   },
   "outputs": [],
   "source": [
    "gcd = Function('gcd',IntSort(),IntSort(),IntSort())"
   ]
  },
  {
   "cell_type": "code",
   "execution_count": 86,
   "metadata": {
    "collapsed": true
   },
   "outputs": [],
   "source": [
    "def GCD():   \n",
    "    A = nounce('X', IntSort());  B = nounce('Y', IntSort())   \n",
    "    return ForAll([A,B],Implies(\n",
    "        And(INV(A,B), z(A) % z(B) == 0), \n",
    "        z(B) == gcd(a,b)))"
   ]
  },
  {
   "cell_type": "code",
   "execution_count": 87,
   "metadata": {
    "collapsed": true
   },
   "outputs": [],
   "source": [
    "a = Int(27)\n",
    "b = Int(6)\n",
    "\n",
    "import random \n",
    "\n",
    "def nounce(pref,srt=BoolSort()):\n",
    "    n = hex(hash(random.random()))[-6:-2]   # \n",
    "    return Const(pref + n, srt)\n",
    "\n",
    "\n",
    "X = nounce('X',IntSort())\n",
    "Y = nounce('Y',IntSort())\n",
    "\n",
    "\n",
    "def spc(f):\n",
    "    return simplify(B2(B1(B0(f))))\n",
    "\n",
    "\n",
    "    \n",
    "def B0(f):\n",
    "    A = nounce('A',IntSort()) ;  B = nounce('B',IntSort())\n",
    "    F = And(a > 0 , b > 0, f)\n",
    "    Q = And(substitute(F,(X,A),(Y,B)),X==a,Y==b)\n",
    "    return Implies(Q,INV(X,Y))\n",
    "\n",
    "def B1(f):\n",
    "    A = nounce('A',IntSort()) ;  B = nounce('B',IntSort())\n",
    "    Q = And(substitute(f,(X,A),(Y,B)),X==A,Y==B)\n",
    "    return And(Q,INV(X,Y))\n",
    "\n",
    "def B2(f):\n",
    "    return And(T(And(X==0, f)) ,F(And(X!=0, f)) )\n",
    "\n",
    "def T(f):\n",
    "    return Implies(f,And(INV(X,Y), Y == gcd(a,b)))\n",
    "        \n",
    "def F(f):\n",
    "    return F1(F0(f))\n",
    "    \n",
    "def F0(f):\n",
    "    return And(FT(And(Y>X, f)), FF(And(Y<=X, f)))\n",
    "    \n",
    "def F1(f):\n",
    "    return Implies(f,INV(X,Y)) \n",
    "    \n",
    "def FF(f):\n",
    "    A = nounce('A', IntSort())\n",
    "    return And(substitute(f,(Y,A)),X==A-Y)\n",
    "    \n",
    "def FT(f):\n",
    "    B = nounce('B', IntSort())\n",
    "    return And(substitute(f,(Y,B)),Y==B-X)\n",
    "  \n",
    "\n",
    "# para provar que 'wpc(True)' é tautologia, prova-se que a sua negação é inconsistente\n",
    "true = BoolVal(True)\n",
    "refutation = Not(spc(true))\n",
    "\n"
   ]
  },
  {
   "cell_type": "code",
   "execution_count": 88,
   "metadata": {},
   "outputs": [
    {
     "ename": "TypeError",
     "evalue": "'int' object is not callable",
     "output_type": "error",
     "traceback": [
      "\u001b[0;31m---------------------------------------------------------------------------\u001b[0m",
      "\u001b[0;31mTypeError\u001b[0m                                 Traceback (most recent call last)",
      "\u001b[0;32m<ipython-input-88-384e06b6cd41>\u001b[0m in \u001b[0;36m<module>\u001b[0;34m()\u001b[0m\n\u001b[1;32m      2\u001b[0m \u001b[0;34m\u001b[0m\u001b[0m\n\u001b[1;32m      3\u001b[0m \u001b[0;31m# a semantica\u001b[0m\u001b[0;34m\u001b[0m\u001b[0;34m\u001b[0m\u001b[0m\n\u001b[0;32m----> 4\u001b[0;31m \u001b[0msolver\u001b[0m\u001b[0;34m.\u001b[0m\u001b[0madd\u001b[0m\u001b[0;34m(\u001b[0m\u001b[0mGCD\u001b[0m\u001b[0;34m(\u001b[0m\u001b[0;34m)\u001b[0m\u001b[0;34m)\u001b[0m\u001b[0;34m\u001b[0m\u001b[0m\n\u001b[0m\u001b[1;32m      5\u001b[0m \u001b[0;31m# a refutação\u001b[0m\u001b[0;34m\u001b[0m\u001b[0;34m\u001b[0m\u001b[0m\n\u001b[1;32m      6\u001b[0m \u001b[0msolver\u001b[0m\u001b[0;34m.\u001b[0m\u001b[0madd\u001b[0m\u001b[0;34m(\u001b[0m\u001b[0mrefutation\u001b[0m\u001b[0;34m)\u001b[0m\u001b[0;34m\u001b[0m\u001b[0m\n",
      "\u001b[0;32m<ipython-input-86-8fe1d81b03a9>\u001b[0m in \u001b[0;36mGCD\u001b[0;34m()\u001b[0m\n\u001b[1;32m      2\u001b[0m     \u001b[0mA\u001b[0m \u001b[0;34m=\u001b[0m \u001b[0mnounce\u001b[0m\u001b[0;34m(\u001b[0m\u001b[0;34m'X'\u001b[0m\u001b[0;34m,\u001b[0m \u001b[0mIntSort\u001b[0m\u001b[0;34m(\u001b[0m\u001b[0;34m)\u001b[0m\u001b[0;34m)\u001b[0m\u001b[0;34m;\u001b[0m  \u001b[0mB\u001b[0m \u001b[0;34m=\u001b[0m \u001b[0mnounce\u001b[0m\u001b[0;34m(\u001b[0m\u001b[0;34m'Y'\u001b[0m\u001b[0;34m,\u001b[0m \u001b[0mIntSort\u001b[0m\u001b[0;34m(\u001b[0m\u001b[0;34m)\u001b[0m\u001b[0;34m)\u001b[0m\u001b[0;34m\u001b[0m\u001b[0m\n\u001b[1;32m      3\u001b[0m     return ForAll([A,B],Implies(\n\u001b[0;32m----> 4\u001b[0;31m         \u001b[0mAnd\u001b[0m\u001b[0;34m(\u001b[0m\u001b[0mINV\u001b[0m\u001b[0;34m(\u001b[0m\u001b[0mA\u001b[0m\u001b[0;34m,\u001b[0m\u001b[0mB\u001b[0m\u001b[0;34m)\u001b[0m\u001b[0;34m,\u001b[0m \u001b[0mz\u001b[0m\u001b[0;34m(\u001b[0m\u001b[0mA\u001b[0m\u001b[0;34m)\u001b[0m \u001b[0;34m%\u001b[0m \u001b[0mz\u001b[0m\u001b[0;34m(\u001b[0m\u001b[0mB\u001b[0m\u001b[0;34m)\u001b[0m \u001b[0;34m==\u001b[0m \u001b[0;36m0\u001b[0m\u001b[0;34m)\u001b[0m\u001b[0;34m,\u001b[0m\u001b[0;34m\u001b[0m\u001b[0m\n\u001b[0m\u001b[1;32m      5\u001b[0m         z(B) == gcd(a,b)))\n",
      "\u001b[0;31mTypeError\u001b[0m: 'int' object is not callable"
     ]
    }
   ],
   "source": [
    "solver = Solver()\n",
    "\n",
    "# a semantica \n",
    "solver.add(GCD())\n",
    "# a refutação\n",
    "solver.add(refutation)"
   ]
  },
  {
   "cell_type": "code",
   "execution_count": null,
   "metadata": {
    "collapsed": true
   },
   "outputs": [],
   "source": [
    "solver.check()"
   ]
  }
 ],
 "metadata": {
  "kernelspec": {
   "display_name": "Python 3",
   "language": "python",
   "name": "python3"
  },
  "language_info": {
   "codemirror_mode": {
    "name": "ipython",
    "version": 3
   },
   "file_extension": ".py",
   "mimetype": "text/x-python",
   "name": "python",
   "nbconvert_exporter": "python",
   "pygments_lexer": "ipython3",
   "version": "3.5.2"
  }
 },
 "nbformat": 4,
 "nbformat_minor": 2
}
