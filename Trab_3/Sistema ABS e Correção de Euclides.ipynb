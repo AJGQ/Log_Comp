{
 "cells": [
  {
   "cell_type": "markdown",
   "metadata": {},
   "source": [
    "# Parte A\n",
    "\n",
    "## Sistema de paragem ABS"
   ]
  },
  {
   "cell_type": "code",
   "execution_count": null,
   "metadata": {
    "collapsed": true
   },
   "outputs": [],
   "source": []
  },
  {
   "cell_type": "code",
   "execution_count": null,
   "metadata": {
    "collapsed": true
   },
   "outputs": [],
   "source": []
  },
  {
   "cell_type": "code",
   "execution_count": null,
   "metadata": {
    "collapsed": true
   },
   "outputs": [],
   "source": []
  },
  {
   "cell_type": "markdown",
   "metadata": {},
   "source": [
    "# Parte B\n",
    "\n",
    "## Codificar o algoritmo de Euclides da questao 2 do Trabalho 2\n",
    "\n",
    "0: $assert\\quad a > 0\\quad and\\quad b > 0$  \n",
    "1: $while\\quad a > 0\\quad and\\quad b > 0:$  \n",
    "2: $\\hspace{1cm}if\\quad b > a$  \n",
    "3: $\\hspace{2cm}b = b - a$  \n",
    "4: $\\hspace{1cm}else:$  \n",
    "5: $\\hspace{2cm}a = a - b$    \n",
    "6: $pass$ \n",
    "\n",
    "\n",
    "## Código em 'comandos anotados'\n",
    "\n",
    "```\n",
    "# pré-condição:\n",
    "assume a > 0  and  b > 0\n",
    "x := a\n",
    "y := b \n",
    "\n",
    "# condição para a entrada no ciclo:\n",
    "assert INV(x,y)\n",
    "\n",
    "# condição para cada iteracção: \n",
    "havoc x , y\n",
    "assume INV(x,y)\n",
    "\n",
    "\n",
    "if x = 0:\n",
    "    # condição para a saída do ciclo (pós-condição)\n",
    "    assert INV(x,y) and (y = gcd(a,b))\n",
    "    assume false\n",
    "else:\n",
    "    if y > x:\n",
    "        y := y - x\n",
    "    else:\n",
    "        x := x - y\n",
    "        \n",
    "    # condição para a saída de iteracção:\n",
    "    assert INV(x,y)\n",
    "```"
   ]
  },
  {
   "cell_type": "markdown",
   "metadata": {},
   "source": [
    "## INV:\n",
    "O nosso invariante será:"
   ]
  },
  {
   "cell_type": "code",
   "execution_count": null,
   "metadata": {
    "collapsed": true
   },
   "outputs": [],
   "source": [
    "def INV(x,y):\n",
    "    F = x>=0 and y>0 "
   ]
  }
 ],
 "metadata": {
  "kernelspec": {
   "display_name": "Python 3",
   "language": "python",
   "name": "python3"
  },
  "language_info": {
   "codemirror_mode": {
    "name": "ipython",
    "version": 3
   },
   "file_extension": ".py",
   "mimetype": "text/x-python",
   "name": "python",
   "nbconvert_exporter": "python",
   "pygments_lexer": "ipython3",
   "version": "3.5.2"
  }
 },
 "nbformat": 4,
 "nbformat_minor": 2
}
