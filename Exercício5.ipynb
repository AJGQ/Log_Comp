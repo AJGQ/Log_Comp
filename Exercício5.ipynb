{
 "cells": [
  {
   "cell_type": "markdown",
   "metadata": {
    "collapsed": true
   },
   "source": [
    "\n",
    "# Exercício:\n",
    "\n",
    "## Verificação de um programa While\n",
    "\n",
    "Pretende-se com este exercício verificar a terminação de um programa muito simples pelo recurso ao SMT Z3. Procede-se à definição do sistema de transição de primira ordem (FOTS) respectivo à sua semântica operacional, seguida da verificação de condições relativas à sua terminação.\n",
    "\n",
    "O programa em questão: assumindo um $a>0$:\n",
    "\n",
    "\n",
    "1: begin\n",
    "\n",
    "$\\hspace{1cm} x \\leftarrow a$\n",
    "\n",
    "2: while $a>0$ do\n",
    "\n",
    "$\\hspace{1cm} x \\leftarrow x-1$\n",
    "\n",
    "3: exit\n",
    "\n"
   ]
  },
  {
   "cell_type": "code",
   "execution_count": 2,
   "metadata": {
    "collapsed": true
   },
   "outputs": [],
   "source": [
    "import sys, os\n",
    "from z3 import *"
   ]
  },
  {
   "cell_type": "markdown",
   "metadata": {},
   "source": [
    "A primeira etapa a considerar é a definição das variáveis para representar espaço de estados do FOTS inerente a este programa. Facilmente se verifica que qualquer momento de execução deste programa fica completamente caracterizado por um par $(x,l)\\in \\mathbb{Z} \\times \\{1,2,3\\} $, onde $x$ o valor da variável nesse momento, digamos $var$; e $l$ a linha do código onde a execução se encontra, digamos o $place$."
   ]
  },
  {
   "cell_type": "code",
   "execution_count": 3,
   "metadata": {
    "collapsed": true
   },
   "outputs": [],
   "source": [
    "Labels, (var, place) = EnumSort('Labels',['var', 'place'])\n",
    "Estado = ArraySort(Labels, IntSort())\n",
    "s = Const('s', Estado)\n",
    "w = Const('w', Estado)"
   ]
  },
  {
   "cell_type": "markdown",
   "metadata": {},
   "source": [
    "Teremos agora que introduzir alguns invariantes estruturais do sistema.\n",
    "O primeiro, \"a componente $place$ de um estado $s$, terá que estar numa das 3 linhas do código\":"
   ]
  },
  {
   "cell_type": "code",
   "execution_count": 4,
   "metadata": {
    "collapsed": true
   },
   "outputs": [],
   "source": [
    "def inv(s):\n",
    "  l = s[place]\n",
    "  return(l in [1,2,3])\n",
    "\n"
   ]
  },
  {
   "cell_type": "markdown",
   "metadata": {},
   "source": [
    "Inicialização do modelo: a execução terá que começar na primeira linha do código:"
   ]
  },
  {
   "cell_type": "code",
   "execution_count": 5,
   "metadata": {
    "collapsed": true
   },
   "outputs": [],
   "source": [
    "def init(s):\n",
    "  l = s[place]\n",
    "  return( l==1 )"
   ]
  },
  {
   "cell_type": "markdown",
   "metadata": {},
   "source": [
    "Agora os invariantes para as transições. Facilmente se extrai do código as três possíveis (classes) de transições:\n",
    "$trans(x,l,x',l')=\\begin{cases}\n",
    "(l=1) \\wedge (l'=2) \\wedge (x'>0)\\wedge (x'=x)\\\\\n",
    "(l=2) \\wedge (l'=2) \\wedge (x'\\geq0) \\wedge (x'> x)\\\\\n",
    "(l=2) \\wedge (l'=3) \\wedge (x'=0) \\wedge (x'=x)\n",
    "\\end{cases}$"
   ]
  },
  {
   "cell_type": "code",
   "execution_count": 6,
   "metadata": {
    "collapsed": true
   },
   "outputs": [],
   "source": [
    "def trans(u,v):\n",
    "  x = u[var] ; l = u[place] ; x_ = v[var] ; l_ = v[place]\n",
    "  return Or(\n",
    "              And( l==1, l_==2, x_>0, x_ == x),\n",
    "              And( l==2, l_==2, x_>=0, x_>x),\n",
    "              And( l==2, l_==3, x_==0, x_==x)\n",
    "            )"
   ]
  },
  {
   "cell_type": "markdown",
   "metadata": {},
   "source": [
    "Prove-se, por agora, que a relação de transição $trans$ não viola o invariante $inv$. Para tal, pelo princípio de indução é suficiente provar que:\n",
    "1. $init(s)\\rightarrow inv(s)$\n",
    "2. $trans(l,x,l'x') \\wedge inv(l)\\rightarrow inv(l')$\n",
    "\n",
    "são tautologias.\n",
    "\n",
    "De forma equivalente, e mais adequado ao SMT, podemos provar que as suas formas negadas:\n",
    "1. $init(s) \\wedge \\neg inv(s)$ $\\hspace{4cm}$(non rooted)\n",
    "2. $trans(l,x,l'x') \\wedge inv(l)\\wedge \\neg inv(l')$ $\\hspace{1cm}$(non_safe)\n",
    "\n",
    "são insatisfazíveis (i.e. *unsat*).\n",
    "\n"
   ]
  },
  {
   "cell_type": "markdown",
   "metadata": {},
   "source": [
    "Templates genéricos para expressar a universalidade de uma\n",
    "propriedade $P$ (na sua forma negada):"
   ]
  },
  {
   "cell_type": "code",
   "execution_count": 7,
   "metadata": {
    "collapsed": true
   },
   "outputs": [],
   "source": [
    "\n",
    "def non_rooted(P):\n",
    "  return And(init(s), Not(P(s)))\n",
    "\n",
    "\n",
    "def non_safe(P):\n",
    "  return And( trans(s,w), P(s), Not(P(w)) )\n",
    "\n",
    "def non_universal(P):\n",
    "  return Or( non_rooted(P), non_safe(P))\n",
    "\n"
   ]
  },
  {
   "cell_type": "markdown",
   "metadata": {
    "collapsed": true
   },
   "source": [
    "Template genérico para testar propriedade $P$:"
   ]
  },
  {
   "cell_type": "code",
   "execution_count": 8,
   "metadata": {
    "collapsed": true
   },
   "outputs": [],
   "source": [
    "def test(P):\n",
    "  solver = Solver()\n",
    "  solver.add(P)\n",
    "  try:\n",
    "    print(solver.check())\n",
    "    print(solver.model())\n",
    "  except Exception:\n",
    "    pass"
   ]
  },
  {
   "cell_type": "markdown",
   "metadata": {},
   "source": [
    "Usando os templates anteriores estamos em condições de provar a pretendida universalidade do invariante $inv$"
   ]
  },
  {
   "cell_type": "code",
   "execution_count": 9,
   "metadata": {},
   "outputs": [
    {
     "name": "stdout",
     "output_type": "stream",
     "text": [
      "sat\n",
      "[s = [place -> 1, else -> 1], k!0 = [place -> 1, else -> 1]]\n"
     ]
    }
   ],
   "source": [
    "test(non_universal(inv))"
   ]
  },
  {
   "cell_type": "markdown",
   "metadata": {},
   "source": [
    "## Análise de terminação \n",
    "\n",
    "Partamos agora para a análise da terminação do algoritmo. Para tal, relembremos o resultado das aulas teóricas:\n",
    "\n",
    "${\\textbf Teorema:}$\n",
    "Dados um FOTS $\\Sigma$, uma função de estado $F(s)$ e um predicado $exit(s)$ que caracterize os estados terminais, se forem tautologias \n",
    "\n",
    "$(F(s)>0 \\vee exit(s)\\;,  \\; trans(s,s')\\rightarrow (F(s)>F(s') \\vee exit(s)))$\n",
    "\n",
    "então verifica-se que $\\forall s\\in \\Sigma.\\exists n. exit(s_n)$\n",
    "\n",
    "\n",
    "\n"
   ]
  },
  {
   "cell_type": "markdown",
   "metadata": {},
   "source": [
    "Definição do predicado exit:"
   ]
  },
  {
   "cell_type": "code",
   "execution_count": 10,
   "metadata": {
    "collapsed": true
   },
   "outputs": [],
   "source": [
    "def nexit(u):\n",
    "      return (u[var] > 0)"
   ]
  },
  {
   "cell_type": "markdown",
   "metadata": {},
   "source": [
    "Definição da função de estado:"
   ]
  },
  {
   "cell_type": "code",
   "execution_count": 11,
   "metadata": {
    "collapsed": true
   },
   "outputs": [],
   "source": [
    "def f(u):\n",
    "      return u[var]"
   ]
  },
  {
   "cell_type": "markdown",
   "metadata": {},
   "source": [
    "Caso base:"
   ]
  },
  {
   "cell_type": "code",
   "execution_count": 12,
   "metadata": {
    "collapsed": true
   },
   "outputs": [],
   "source": [
    "def not_anim0(F):\n",
    "    return And(F(s) <= 0, nexit(s))"
   ]
  },
  {
   "cell_type": "code",
   "execution_count": 13,
   "metadata": {},
   "outputs": [
    {
     "name": "stdout",
     "output_type": "stream",
     "text": [
      "unsat\n"
     ]
    }
   ],
   "source": [
    "test(not_anim0(f))"
   ]
  },
  {
   "cell_type": "markdown",
   "metadata": {},
   "source": [
    "Passo indutivo:"
   ]
  },
  {
   "cell_type": "code",
   "execution_count": 16,
   "metadata": {
    "collapsed": true
   },
   "outputs": [],
   "source": [
    "def not_anim1(F):\n",
    "    return And(trans(s,w), F(s) <= F(w), nexit(s))"
   ]
  },
  {
   "cell_type": "code",
   "execution_count": 17,
   "metadata": {},
   "outputs": [
    {
     "name": "stdout",
     "output_type": "stream",
     "text": [
      "sat\n",
      "[w = [place -> 2, var -> 40, else -> 2],\n",
      " s = [place -> 2, var -> 39, else -> 2],\n",
      " k!1 = [place -> 2, var -> 39, else -> 2],\n",
      " k!2 = [place -> 2, var -> 40, else -> 2]]\n"
     ]
    }
   ],
   "source": [
    "test(not_anim1(f)) "
   ]
  },
  {
   "cell_type": "markdown",
   "metadata": {},
   "source": [
    "## Questão: o que pode concluir este resultado?"
   ]
  },
  {
   "cell_type": "code",
   "execution_count": null,
   "metadata": {
    "collapsed": true
   },
   "outputs": [],
   "source": []
  },
  {
   "cell_type": "code",
   "execution_count": null,
   "metadata": {
    "collapsed": true
   },
   "outputs": [],
   "source": []
  },
  {
   "cell_type": "code",
   "execution_count": null,
   "metadata": {
    "collapsed": true
   },
   "outputs": [],
   "source": [
    "\n"
   ]
  },
  {
   "cell_type": "code",
   "execution_count": null,
   "metadata": {
    "collapsed": true
   },
   "outputs": [],
   "source": []
  },
  {
   "cell_type": "code",
   "execution_count": null,
   "metadata": {
    "collapsed": true
   },
   "outputs": [],
   "source": []
  },
  {
   "cell_type": "code",
   "execution_count": null,
   "metadata": {
    "collapsed": true
   },
   "outputs": [],
   "source": []
  },
  {
   "cell_type": "code",
   "execution_count": null,
   "metadata": {
    "collapsed": true
   },
   "outputs": [],
   "source": []
  },
  {
   "cell_type": "code",
   "execution_count": null,
   "metadata": {
    "collapsed": true
   },
   "outputs": [],
   "source": []
  },
  {
   "cell_type": "code",
   "execution_count": null,
   "metadata": {
    "collapsed": true
   },
   "outputs": [],
   "source": []
  },
  {
   "cell_type": "code",
   "execution_count": null,
   "metadata": {
    "collapsed": true
   },
   "outputs": [],
   "source": []
  },
  {
   "cell_type": "code",
   "execution_count": null,
   "metadata": {
    "collapsed": true
   },
   "outputs": [],
   "source": []
  },
  {
   "cell_type": "code",
   "execution_count": null,
   "metadata": {
    "collapsed": true
   },
   "outputs": [],
   "source": []
  },
  {
   "cell_type": "code",
   "execution_count": null,
   "metadata": {
    "collapsed": true
   },
   "outputs": [],
   "source": []
  },
  {
   "cell_type": "code",
   "execution_count": null,
   "metadata": {
    "collapsed": true
   },
   "outputs": [],
   "source": []
  },
  {
   "cell_type": "code",
   "execution_count": null,
   "metadata": {
    "collapsed": true
   },
   "outputs": [],
   "source": []
  },
  {
   "cell_type": "code",
   "execution_count": null,
   "metadata": {
    "collapsed": true
   },
   "outputs": [],
   "source": []
  },
  {
   "cell_type": "code",
   "execution_count": null,
   "metadata": {
    "collapsed": true
   },
   "outputs": [],
   "source": []
  }
 ],
 "metadata": {
  "kernelspec": {
   "display_name": "Python 3",
   "language": "python",
   "name": "python3"
  },
  "language_info": {
   "codemirror_mode": {
    "name": "ipython",
    "version": 3
   },
   "file_extension": ".py",
   "mimetype": "text/x-python",
   "name": "python",
   "nbconvert_exporter": "python",
   "pygments_lexer": "ipython3",
   "version": "3.5.2"
  }
 },
 "nbformat": 4,
 "nbformat_minor": 1
}
