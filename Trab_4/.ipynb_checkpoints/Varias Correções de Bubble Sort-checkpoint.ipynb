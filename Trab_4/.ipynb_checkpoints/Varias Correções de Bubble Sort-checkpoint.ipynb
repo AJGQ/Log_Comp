{
 "cells": [
  {
   "cell_type": "markdown",
   "metadata": {},
   "source": [
    "# 1- Bubble Sort para SMT\n",
    "## O programa Python seguinte implementa o algoritmo de bubble sort para ordenação in situ de um array de inteiros.\n",
    "```\n",
    "    seq = [-2,1,2,-1,4,-4,-3,3]\n",
    "    changed = True\n",
    "    while changed:\n",
    "        changed = False\n",
    "        for i in range(len(seq) - 1):\n",
    "            if seq[i] > seq[i+1]:\n",
    "                seq[i], seq[i+1] = seq[i+1], seq[i]\n",
    "                changed = True\n",
    "    pass            \n",
    "```\n",
    " "
   ]
  },
  {
   "cell_type": "markdown",
   "metadata": {},
   "source": [
    "## 1.1- Defina a pré-condição, o invariante de ciclo e a pós-condição que traduzem a correcção parcial deste programa."
   ]
  },
  {
   "cell_type": "markdown",
   "metadata": {},
   "source": [
    "$Pré Condição \\Leftrightarrow changed$\n",
    "\n",
    "$Invariante \\Leftrightarrow \\neg \\big(\\exists_{i} . seq[i]>seq[i+1] \\big) \\Rightarrow changed$\n",
    "\n",
    "$Pós Condição \\Leftrightarrow \\neg changed$"
   ]
  },
  {
   "cell_type": "code",
   "execution_count": 9,
   "metadata": {
    "collapsed": true
   },
   "outputs": [],
   "source": [
    "from z3 import *\n",
    "\n",
    "def PreCond(seq,changed):\n",
    "    return changed\n",
    "\n",
    "def INV(seq,changed):\n",
    "    return Implies(Not(ordered(seq)),changed)\n",
    "\n",
    "def ordered(seq):\n",
    "    for i in range(len(seq)-1):\n",
    "        if seq[i] > seq[i+1] :\n",
    "             return False\n",
    "    return True\n",
    "\n",
    "def PosCond(seq,changed):\n",
    "    return Not(changed)\n"
   ]
  },
  {
   "cell_type": "markdown",
   "metadata": {},
   "source": [
    "## 1.2- Escreva o programa na linguagem de comandos anotados."
   ]
  },
  {
   "cell_type": "markdown",
   "metadata": {},
   "source": [
    "```\n",
    "ola\n",
    "\n",
    "sup?\n",
    "```"
   ]
  },
  {
   "cell_type": "markdown",
   "metadata": {},
   "source": [
    "## 1.3- Codifique em SMT  a correcção parcial usando a metodologia da pós-condição mais forte."
   ]
  },
  {
   "cell_type": "code",
   "execution_count": null,
   "metadata": {
    "collapsed": true
   },
   "outputs": [],
   "source": []
  },
  {
   "cell_type": "markdown",
   "metadata": {},
   "source": [
    "# 2. Bubble Sort em SMV\n",
    "## Pretende-se usar as ferramentas de Model Checking SMV (ou Xmv) para codificar o programa acima e provar propriedades temporais do programa apresentado atrás.  "
   ]
  },
  {
   "cell_type": "markdown",
   "metadata": {},
   "source": [
    "## 2.1- codifique a máquina de estados finita que descreve o programa."
   ]
  },
  {
   "cell_type": "code",
   "execution_count": 31,
   "metadata": {},
   "outputs": [
    {
     "name": "stdout",
     "output_type": "stream",
     "text": [
      "\n"
     ]
    }
   ],
   "source": [
    "from pynusmv.model import *\n",
    "\n",
    "class main(Module):\n",
    "    #VAR\n",
    "    seq = Var(Array(0,7,Range(-100,100)))\n",
    "    loc = Var(Range(1,5))\n",
    "    i   = Var(Range(0,7))\n",
    "    ch  = Var(Boolean)\n",
    "    \n",
    "    #INIT\n",
    "    INIT =  [loc == 1]\n",
    "    INIT += [i == 0]\n",
    "    INIT += [ch == True]\n",
    "    INIT += [seq[0] == -2, seq[1] == 1, seq[2] == 2, seq[3] == -1]\n",
    "    INIT += [seq[4] == 4, seq[5] == -4, seq[6] == -3, seq[7] == 3]\n",
    "    \n",
    "    #DEFINE\n",
    "    ListaIgual = Def(seq[0].next() == seq[0] & seq[1].next() == seq[1] & \\\n",
    "                     seq[2].next() == seq[2] & seq[3].next() == seq[3] & \\\n",
    "                     seq[4].next() == seq[4] & seq[5].next() == seq[5] & \\\n",
    "                     seq[6].next() == seq[6] & seq[7].next() == seq[7])\n",
    "    \n",
    "    #TRANS\n",
    "    TRANS = [Case((((loc==1) & ch & (i==0)                , (loc.next() == 2) &     \\\n",
    "                                                            (i.next() == i) &       \\\n",
    "                                                            (ch.next() == ch) &     \\\n",
    "                                                            ListaIgual),\n",
    "                   ((loc==2) & (~ch)                      , (loc.next() == 5) &     \\\n",
    "                                                            (i.next() == i) &       \\\n",
    "                                                            (ch.next() == ch) &     \\\n",
    "                                                            ListaIgual),\n",
    "                   ((loc==2) & ch                         , (loc.next() == 3) &     \\\n",
    "                                                            (i.next() == i) &       \\\n",
    "                                                            (ch.next() == False) &  \\\n",
    "                                                            ListaIgual),\n",
    "                   ((loc==3) & ch & (i==7)                , (loc.next() == 2) &     \\\n",
    "                                                            (i.next() == 0) &       \\\n",
    "                                                            (ch.next() == ch) &     \\\n",
    "                                                            ListaIgual),\n",
    "                   ((loc==3) & (i<7)                      , (loc.next() == 4) &     \\\n",
    "                                                            (i.next() == i) &       \\\n",
    "                                                            (ch.next() == ch) &     \\\n",
    "                                                            ListaIgual),\n",
    "                   ((loc==4) & (i<7) & (seq[i]<=seq[i+1]) , (loc.next() == 3) &     \\\n",
    "                                                            (i.next() == i+1) &     \\\n",
    "                                                            (ch.next() == ch) &     \\\n",
    "                                                            ListaIgual),\n",
    "                   ((loc==4) & (i<7) & (seq[i]>seq[i+1])  , (loc.next() == 3) &     \\\n",
    "                                                            (i.next() == i+1) &     \\\n",
    "                                                            (ch.next() == True) &   \\\n",
    "                                                            ListaIgual),\n",
    "                   (Trueexp()                             , (loc.next() == loc) &   \\\n",
    "                                                            (i.next() == i) &       \\\n",
    "                                                            (ch.next() == ch) &     \\\n",
    "                                                            ListaIgual)\n",
    "                 ))]\n",
    "'''\n",
    "from pynusmv.model import *\n",
    "class main(Module):\n",
    "    #VAR\n",
    "    a = Var(Range(0,100))\n",
    "    \n",
    "    #INIT\n",
    "    INIT = [a==0]\n",
    "    \n",
    "    #TRANS\n",
    "    TRANS = [a.next()==a+1]\n",
    "'''\n",
    "print()\n"
   ]
  },
  {
   "cell_type": "markdown",
   "metadata": {},
   "source": [
    "## 2.2- Codifique em LTL e valide as seguintes propriedades:"
   ]
  },
  {
   "cell_type": "markdown",
   "metadata": {},
   "source": [
    "### 2.2.1- O programa eventualmente termina."
   ]
  },
  {
   "cell_type": "code",
   "execution_count": null,
   "metadata": {
    "collapsed": true
   },
   "outputs": [],
   "source": []
  },
  {
   "cell_type": "markdown",
   "metadata": {},
   "source": [
    "### 2.2.2- Sempre que o programa termina a lista seq está ordenada."
   ]
  },
  {
   "cell_type": "code",
   "execution_count": null,
   "metadata": {
    "collapsed": true
   },
   "outputs": [],
   "source": []
  },
  {
   "cell_type": "markdown",
   "metadata": {},
   "source": [
    "### 2.2.3- O programa não passa pela posição 3 mais do que $N^2$ vezes, sendo $N$ o comprimento de seq."
   ]
  },
  {
   "cell_type": "code",
   "execution_count": null,
   "metadata": {
    "collapsed": true
   },
   "outputs": [],
   "source": []
  }
 ],
 "metadata": {
  "kernelspec": {
   "display_name": "Python 3",
   "language": "python",
   "name": "python3"
  },
  "language_info": {
   "codemirror_mode": {
    "name": "ipython",
    "version": 3
   },
   "file_extension": ".py",
   "mimetype": "text/x-python",
   "name": "python",
   "nbconvert_exporter": "python",
   "pygments_lexer": "ipython3",
   "version": "3.5.2"
  }
 },
 "nbformat": 4,
 "nbformat_minor": 2
}
