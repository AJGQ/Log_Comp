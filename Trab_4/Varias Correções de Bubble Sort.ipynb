{
 "cells": [
  {
   "cell_type": "markdown",
   "metadata": {},
   "source": [
    "# 1- Bubble Sort para SMT\n",
    "## O programa Python seguinte implementa o algoritmo de bubble sort para ordenação in situ de um array de inteiros.\n",
    "```\n",
    "    seq = [-2,1,2,-1,4,-4,-3,3]\n",
    "    changed = True\n",
    "    while changed:\n",
    "        changed = False\n",
    "        for i in range(len(seq) - 1):\n",
    "            if seq[i] > seq[i+1]:\n",
    "                seq[i], seq[i+1] = seq[i+1], seq[i]\n",
    "                changed = True\n",
    "    pass            \n",
    "```\n",
    " "
   ]
  },
  {
   "cell_type": "markdown",
   "metadata": {},
   "source": [
    "## 1.1- Defina a pré-condição, o invariante de ciclo e a pós-condição que traduzem a correcção parcial deste programa."
   ]
  },
  {
   "cell_type": "markdown",
   "metadata": {},
   "source": [
    "\n",
    "Pré Condição <==> changed\n",
    "\n",
    "Invariante <==> ~(exist i . seq[i]>seq[i+1]) -> changed\n",
    "\n",
    "Pós Condição <==> ~changed"
   ]
  },
  {
   "cell_type": "code",
   "execution_count": 9,
   "metadata": {},
   "outputs": [],
   "source": [
    "from z3 import *\n",
    "\n",
    "def PreCond(seq,changed):\n",
    "    return changed\n",
    "\n",
    "def INV(seq,changed):\n",
    "    return Implies(Not(ordered(seq)),changed)\n",
    "\n",
    "def ordered(seq):\n",
    "    for i in range(len(seq)-1):\n",
    "        if seq[i] > seq[i+1] :\n",
    "             return False\n",
    "    return True\n",
    "\n",
    "def PosCond(seq,changed):\n",
    "    return Not(changed)\n"
   ]
  },
  {
   "cell_type": "markdown",
   "metadata": {},
   "source": [
    "## 1.2- Escreva o programa na linguagem de comandos anotados."
   ]
  },
  {
   "cell_type": "markdown",
   "metadata": {},
   "source": [
    "```\n",
    "ola\n",
    "```"
   ]
  },
  {
   "cell_type": "markdown",
   "metadata": {},
   "source": [
    "## 1.3- Codifique em SMT  a correcção parcial usando a metodologia da pós-condição mais forte."
   ]
  },
  {
   "cell_type": "code",
   "execution_count": null,
   "metadata": {},
   "outputs": [],
   "source": []
  },
  {
   "cell_type": "markdown",
   "metadata": {},
   "source": [
    "# 2. Bubble Sort em SMV\n",
    "## Pretende-se usar as ferramentas de Model Checking SMV (ou Xmv) para codificar o programa acima e provar propriedades temporais do programa apresentado atrás.  "
   ]
  },
  {
   "cell_type": "markdown",
   "metadata": {},
   "source": [
    "## 2.1- codifique a máquina de estados finita que descreve o programa."
   ]
  },
  {
   "cell_type": "code",
   "execution_count": 2,
   "metadata": {},
   "outputs": [],
   "source": [
    "import pynusmv\n"
   ]
  },
  {
   "cell_type": "markdown",
   "metadata": {},
   "source": [
    "## 2.2- Codifique em LTL e valide as seguintes propriedades:"
   ]
  },
  {
   "cell_type": "markdown",
   "metadata": {},
   "source": [
    "### 2.2.1- O programa eventualmente termina."
   ]
  },
  {
   "cell_type": "code",
   "execution_count": null,
   "metadata": {},
   "outputs": [],
   "source": []
  },
  {
   "cell_type": "markdown",
   "metadata": {},
   "source": [
    "### 2.2.2- Sempre que o programa termina a lista seq está ordenada."
   ]
  },
  {
   "cell_type": "code",
   "execution_count": null,
   "metadata": {},
   "outputs": [],
   "source": []
  },
  {
   "cell_type": "markdown",
   "metadata": {},
   "source": [
    "### 2.2.3- O programa não passa pela posição 3 mais do que $N^2$ vezes, sendo $N$ o comprimento de seq."
   ]
  },
  {
   "cell_type": "code",
   "execution_count": null,
   "metadata": {},
   "outputs": [],
   "source": []
  }
 ],
 "metadata": {
  "kernelspec": {
   "display_name": "Python 3",
   "language": "python",
   "name": "python3"
  },
  "language_info": {
   "codemirror_mode": {
    "name": "ipython",
    "version": 3
   },
   "file_extension": ".py",
   "mimetype": "text/x-python",
   "name": "python",
   "nbconvert_exporter": "python",
   "pygments_lexer": "ipython3",
   "version": "3.5.2"
  }
 },
 "nbformat": 4,
 "nbformat_minor": 2
}
