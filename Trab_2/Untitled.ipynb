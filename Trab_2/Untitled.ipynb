{
 "cells": [
  {
   "cell_type": "markdown",
   "metadata": {},
   "source": [
    "# 1\n",
    "\n",
    "SMT -> FOTS\n"
   ]
  },
  {
   "cell_type": "code",
   "execution_count": 6,
   "metadata": {},
   "outputs": [
    {
     "name": "stdout",
     "output_type": "stream",
     "text": [
      "sat\n",
      "[loc_3 = Off,\n",
      " x__0 = 18,\n",
      " t__5 = 0,\n",
      " ev_3 = turnOn,\n",
      " x__3 = 22,\n",
      " t__0 = 0,\n",
      " x__2 = 0,\n",
      " x__1 = 20,\n",
      " t__4 = 0,\n",
      " x__5 = 22,\n",
      " t__7 = 0,\n",
      " x__4 = 0,\n",
      " x__8 = 0,\n",
      " ev_7 = turnOn,\n",
      " x__7 = 22,\n",
      " loc_5 = Off,\n",
      " t__6 = 0,\n",
      " loc_1 = Off,\n",
      " loc_0 = Start,\n",
      " loc_4 = On,\n",
      " t__1 = 0,\n",
      " ev_2 = turnOff,\n",
      " t__8 = 0,\n",
      " ev_4 = turnOff,\n",
      " loc_6 = On,\n",
      " x__10 = 0,\n",
      " ev_6 = turnOff,\n",
      " ev_8 = turnOff,\n",
      " loc_2 = On,\n",
      " t__3 = 0,\n",
      " loc_9 = Off,\n",
      " loc_8 = On,\n",
      " ev_1 = turnOn,\n",
      " t__9 = 0,\n",
      " loc_10 = On,\n",
      " x__9 = 22,\n",
      " t__2 = 0,\n",
      " x__6 = 0,\n",
      " t__10 = 0,\n",
      " ev_9 = turnOn,\n",
      " ev_0 = start,\n",
      " loc_7 = Off,\n",
      " ev_5 = turnOn]\n"
     ]
    }
   ],
   "source": [
    "from z3 import *\n",
    "\n",
    "\n",
    "Modes, (Start, On, Off) = EnumSort('Modes',['Start', 'On','Off'])\n",
    "Events, (start, turnOn , turnOff , alive , dead) = EnumSort('Events',['start', 'turnOn', 'turnOff' , 'alive' , 'dead'])\n",
    "\n",
    "N = 10\n",
    "\n",
    "temp = RealVector('x', N+1)\n",
    "time = RealVector('t', N+1)\n",
    "\n",
    "modes = AstVector(); modes.resize(N+1)\n",
    "events = AstVector(); events.resize(N+1)\n",
    "\n",
    "for k in range(N+1):\n",
    "    modes[k] = Const('loc_' + str(k), Modes)\n",
    "    events[k] = Const('ev_'+str(k), Events)\n",
    "    \n",
    "def init(S):\n",
    "    (X,T,M) = S\n",
    "    return And(T == 0, M == Start)\n",
    "\n",
    "def inv(S):\n",
    "    (X,T,M) = S\n",
    "    return If(M == On, X <= 22 , X >= 18)\n",
    "\n",
    "def timed(S,S_,E):\n",
    "    (X,T,M) = S ; (X_,T_,M_) = S_\n",
    "    return And(\n",
    "                T_ == T ,\n",
    "                Implies( M == On , And( M_ == Off , E == turnOff , X_ > 21)),\n",
    "                Implies( M == Off , And( M_ == On , E == turnOn , X_ < 19)),\n",
    "                Implies( M == Start , And( M_ == Off , E == start , X_ == 20))\n",
    "              )\n",
    "\n",
    "def untimed(S,S_,E):\n",
    "    (X,T,M) = S ; (X_,T_,M_) = S_\n",
    "    return And(\n",
    "                T_ == T ,\n",
    "                Implies( M == On , And( M_ == Off , E == turnOff , X_ > 21)),\n",
    "                Implies( M == Off , And( M_ == On , E == turnOn , X_ < 19)),\n",
    "                Implies( M == Start , And( M_ == Off , E == start , X_ == 20))\n",
    "              )\n",
    "\n",
    "def trans(S,S_,E):\n",
    "    return Or(untimed(S,S_,E) , timed(S,S_,E))\n",
    "\n",
    "def S(k):\n",
    "    return (temp[k],time[k],modes[k])\n",
    "def E(k):\n",
    "    return events[k]\n",
    "\n",
    "s = Solver()\n",
    "s.add(init(S(0)))\n",
    "\n",
    "for k in range(N):\n",
    "    s.add(inv(S(k)))\n",
    "    s.add(trans(S(k),S(k+1),E(k)))\n",
    "\n",
    "s.add(inv(S(N)))\n",
    "\n",
    "print(s.check())\n",
    "\n",
    "try:\n",
    "    print(s.model())\n",
    "except Z3Exception as ex:\n",
    "    print(\"failed: %s\" % ex)\n"
   ]
  },
  {
   "cell_type": "code",
   "execution_count": null,
   "metadata": {
    "collapsed": true
   },
   "outputs": [],
   "source": []
  },
  {
   "cell_type": "markdown",
   "metadata": {},
   "source": [
    "# 2\n",
    "\n"
   ]
  },
  {
   "cell_type": "code",
   "execution_count": null,
   "metadata": {
    "collapsed": true
   },
   "outputs": [],
   "source": []
  },
  {
   "cell_type": "code",
   "execution_count": null,
   "metadata": {
    "collapsed": true
   },
   "outputs": [],
   "source": []
  }
 ],
 "metadata": {
  "kernelspec": {
   "display_name": "Python 3",
   "language": "python",
   "name": "python3"
  },
  "language_info": {
   "codemirror_mode": {
    "name": "ipython",
    "version": 3
   },
   "file_extension": ".py",
   "mimetype": "text/x-python",
   "name": "python",
   "nbconvert_exporter": "python",
   "pygments_lexer": "ipython3",
   "version": "3.5.2"
  }
 },
 "nbformat": 4,
 "nbformat_minor": 2
}
