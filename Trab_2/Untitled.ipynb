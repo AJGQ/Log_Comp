{
 "cells": [
  {
   "cell_type": "markdown",
   "metadata": {},
   "source": [
    "# 1\n",
    "Passar um dado FOTS, tendo as seguintes informações:\n",
    "* init(s)\n",
    "* inv(s)\n",
    "* trans(s,v)\n",
    "* exit(s)\n",
    "\n",
    "para um SMT\n"
   ]
  },
  {
   "cell_type": "markdown",
   "metadata": {},
   "source": [
    "a)"
   ]
  },
  {
   "cell_type": "code",
   "execution_count": null,
   "metadata": {
    "collapsed": true
   },
   "outputs": [],
   "source": [
    "def init(s):\n",
    "    return True\n",
    "\n",
    "def inv(s):\n",
    "    return True\n",
    "\n",
    "def trans(u,v):\n",
    "    return True\n",
    "\n",
    "def exit(s):\n",
    "    return True"
   ]
  },
  {
   "cell_type": "markdown",
   "metadata": {},
   "source": [
    "b)  \n",
    "\n",
    "Tendo em conta que:\n",
    "1. $init(s)\\rightarrow inv(s)$\n",
    "2. $trans(l,x,l'x') \\wedge inv(l)\\rightarrow inv(l')$\n",
    "\n",
    "são tautologias.\n",
    "\n",
    "De forma equivalente, e mais adequado ao SMT, podemos provar que as suas formas negadas:\n",
    "1. $init(s) \\wedge \\neg inv(s)$ $\\hspace{4cm}$(non rooted)\n",
    "2. $trans(l,x,l'x') \\wedge inv(l)\\wedge \\neg inv(l')$ $\\hspace{1cm}$(non_safe)\n",
    "\n",
    "são insatisfazíveis (i.e. *unsat*)."
   ]
  },
  {
   "cell_type": "code",
   "execution_count": null,
   "metadata": {
    "collapsed": true
   },
   "outputs": [],
   "source": []
  },
  {
   "cell_type": "markdown",
   "metadata": {},
   "source": [
    "c)  \n",
    "1-induction"
   ]
  },
  {
   "cell_type": "code",
   "execution_count": null,
   "metadata": {
    "collapsed": true
   },
   "outputs": [],
   "source": []
  },
  {
   "cell_type": "markdown",
   "metadata": {},
   "source": [
    "k-induction"
   ]
  },
  {
   "cell_type": "code",
   "execution_count": null,
   "metadata": {
    "collapsed": true
   },
   "outputs": [],
   "source": []
  },
  {
   "cell_type": "markdown",
   "metadata": {},
   "source": [
    "# 2\n",
    "Passar codigo de Euclides para FOTS\n",
    "\n",
    "## Codificar o algoritmo de Euclides\n",
    "\n",
    "0: $assert\\quad 0\\quad and\\quad b > 0$  \n",
    "1: $while\\quad a > 0\\quad and\\quad b > 0:$  \n",
    "2: $\\hspace{1cm}if\\quad b > a$  \n",
    "3: $\\hspace{2cm}b = b - a$  \n",
    "4: $\\hspace{1cm}else:$  \n",
    "5: $\\hspace{2cm}a = a - b$    \n",
    "6: $pass$   \n",
    "\n",
    "\n",
    "* **var1** e **var2** representam respetivamente a e b do código acima;  \n",
    "* **place** representa o numero da linha do codigo acima;        \n",
    "* **N** representa o numero de linhas usadas no algoritmo acima;  "
   ]
  },
  {
   "cell_type": "code",
   "execution_count": 1,
   "metadata": {},
   "outputs": [],
   "source": [
    "\n",
    "from z3 import *\n",
    "\n",
    "Modes, (var1, var2, place) = EnumSort('Modes', ['var1', 'var2', 'place'])\n",
    "Estado = ArraySort(Modes, IntSort())\n",
    "\n",
    "N = 7\n",
    "\n",
    "s = Const('s', Estado)\n",
    "w = Const('w', Estado)\n"
   ]
  },
  {
   "cell_type": "markdown",
   "metadata": {},
   "source": [
    "#### inv"
   ]
  },
  {
   "cell_type": "code",
   "execution_count": 2,
   "metadata": {
    "collapsed": true
   },
   "outputs": [],
   "source": [
    "def inv(s):\n",
    "  l = s[place]\n",
    "  return(l in range(N))\n"
   ]
  },
  {
   "cell_type": "markdown",
   "metadata": {},
   "source": [
    "#### init\n"
   ]
  },
  {
   "cell_type": "code",
   "execution_count": 3,
   "metadata": {
    "collapsed": true
   },
   "outputs": [],
   "source": [
    "def init(s):\n",
    "  l = s[place]\n",
    "  return( l==0 )"
   ]
  },
  {
   "cell_type": "markdown",
   "metadata": {},
   "source": [
    "#### trans"
   ]
  },
  {
   "cell_type": "code",
   "execution_count": 4,
   "metadata": {
    "collapsed": true
   },
   "outputs": [],
   "source": [
    "def trans(u,v):\n",
    "  #(a, b, l) = u \n",
    "  a = u[var1]; b = u[var2]; l = u[place];\n",
    "  #(a_, b_, l_) = v\n",
    "  a_ = v[var1]; b_ = v[var2]; l_ = v[place];\n",
    "  return Or(\n",
    "              And(l == 0 , l_ == 1 , a > 0 , b > 0 , a_ == a , b_ == b),\n",
    "              And(l == 1 , l_ == 2 , a > 0 , b > 0 , a_ == a , b_ == b),\n",
    "              And(l == 2 , l_ == 3 , a > 0 , b > a , a_ == a , b_ == b),\n",
    "              And(l == 3 , l_ == 1 , a > 0 , b > a , a_ == a , b_ == b - a),\n",
    "              And(l == 2 , l_ == 4 , a > 0 , b > 0 , a_ == a , b_ == b),\n",
    "              And(l == 4 , l_ == 5 , a >= b , b > 0 , a_ == a , b_ == b),\n",
    "              And(l == 5 , l_ == 1 , a >= b , b > 0 , a_ == a - b , b_ == b),\n",
    "              And(l == 1 , l_ == 6 , a == 0 , b > 0 , a_ == a , b_ == b)\n",
    "            )\n"
   ]
  },
  {
   "cell_type": "markdown",
   "metadata": {},
   "source": [
    "#### Exit"
   ]
  },
  {
   "cell_type": "code",
   "execution_count": 5,
   "metadata": {
    "collapsed": true
   },
   "outputs": [],
   "source": [
    "def exit(s):\n",
    "    l = s[place]\n",
    "    return (l == 6)"
   ]
  }
 ],
 "metadata": {
  "kernelspec": {
   "display_name": "Python 3",
   "language": "python",
   "name": "python3"
  },
  "language_info": {
   "codemirror_mode": {
    "name": "ipython",
    "version": 3
   },
   "file_extension": ".py",
   "mimetype": "text/x-python",
   "name": "python",
   "nbconvert_exporter": "python",
   "pygments_lexer": "ipython3",
   "version": "3.5.2"
  }
 },
 "nbformat": 4,
 "nbformat_minor": 2
}
