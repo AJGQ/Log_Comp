{
 "cells": [
  {
   "cell_type": "markdown",
   "metadata": {},
   "source": [
    "# Correção de Algoritmos e de Euclides"
   ]
  },
  {
   "cell_type": "markdown",
   "metadata": {},
   "source": [
    "# 1\n",
    "Passar um dado FOTS, tendo as seguintes informações:\n",
    "* init(s)\n",
    "* inv(s)\n",
    "* trans(s,v)\n",
    "\n",
    "para um SMT\n"
   ]
  },
  {
   "cell_type": "markdown",
   "metadata": {},
   "source": [
    "a)"
   ]
  },
  {
   "cell_type": "code",
   "execution_count": null,
   "metadata": {
    "collapsed": true
   },
   "outputs": [],
   "source": [
    "def init(s):\n",
    "    return None\n",
    "\n",
    "def inv(s):\n",
    "    return None\n",
    "\n",
    "def trans(u,v):\n",
    "    return None"
   ]
  },
  {
   "cell_type": "markdown",
   "metadata": {},
   "source": [
    "b)  Para provar uma determinada proposição, P relativamente ao estado, para qualquer estado,\n",
    "    temos que ter em conta que se:\n",
    "\n",
    "1. $init(s)\\rightarrow P(s)$\n",
    "2. $trans(s,s') \\wedge P(s)\\rightarrow P(s')$\n",
    "\n",
    "são tautologias, então significa que $\\forall_{s}. P(s)$, usando a definição de indução simples.\n",
    "\n",
    "De forma equivalente, e mais adequado ao SMT, podemos provar que as suas formas negadas:\n",
    "1. $init(s) \\wedge \\neg P(s)$ $\\hspace{4cm}$(non_rooted)\n",
    "2. $trans(s,s') \\wedge P(s)\\wedge \\neg P(s')$ $\\hspace{1.8cm}$(non_safe)\n",
    "\n",
    "são insatisfazíveis (i.e. *unsat*)."
   ]
  },
  {
   "cell_type": "code",
   "execution_count": 13,
   "metadata": {
    "collapsed": true
   },
   "outputs": [],
   "source": [
    "def non_rooted(P):\n",
    "  return And(init(s), Not(P(s)))\n",
    "\n",
    "def non_safe(P):\n",
    "  return And( trans(s,w), P(s), Not(P(w)) )\n",
    "\n",
    "def non_universal(P):\n",
    "  return Or( non_rooted(P), non_safe(P))"
   ]
  },
  {
   "cell_type": "markdown",
   "metadata": {},
   "source": [
    "Função que testa o SMT criado"
   ]
  },
  {
   "cell_type": "code",
   "execution_count": 12,
   "metadata": {
    "collapsed": true
   },
   "outputs": [],
   "source": [
    "def test(P):\n",
    "  solver = Solver()\n",
    "  solver.add(P)\n",
    "  try:\n",
    "    print(solver.check())\n",
    "    print(solver.model())\n",
    "  except Exception:\n",
    "    pass"
   ]
  },
  {
   "cell_type": "markdown",
   "metadata": {},
   "source": [
    "Verificação da invariância"
   ]
  },
  {
   "cell_type": "code",
   "execution_count": null,
   "metadata": {
    "collapsed": true
   },
   "outputs": [],
   "source": [
    "test(non_universal(inv))"
   ]
  },
  {
   "cell_type": "markdown",
   "metadata": {},
   "source": [
    "## Análise de terminação\n",
    "### Animação\n",
    "\n",
    "Partamos agora para a análise da terminação do algoritmo:\n",
    "\n",
    "${\\textbf Teorema:}$\n",
    "Dados um FOTS, uma função de estado $F(s)$ e um predicado $exit(s)$ que caracterize os estados terminais, se forem tautologias:\n",
    "\n",
    "1. $F(s)>0 \\vee exit(s)$\n",
    "2. $trans(s,s')\\rightarrow (F(s)>F(s') \\vee exit(s))$\n",
    "\n",
    "Para melhor descrever por um SMT, vamos negar:\n",
    "\n",
    "1. $ F(s) \\leq 0 \\wedge \\neg exit(s) $\n",
    "2. $ trans(s,s') \\wedge F(s) \\leq F(s') \\wedge \\neg exit(s) $\n",
    "\n",
    "então verifica-se que $\\forall s\\in \\Sigma.\\exists n. exit(s_n)$"
   ]
  },
  {
   "cell_type": "markdown",
   "metadata": {},
   "source": [
    "Função de estado"
   ]
  },
  {
   "cell_type": "code",
   "execution_count": null,
   "metadata": {
    "collapsed": true
   },
   "outputs": [],
   "source": [
    "def f(s):\n",
    "    return None\n",
    "\n",
    "def exit(s):\n",
    "    return None"
   ]
  },
  {
   "cell_type": "code",
   "execution_count": 41,
   "metadata": {},
   "outputs": [
    {
     "name": "stdout",
     "output_type": "stream",
     "text": [
      "unsat\n"
     ]
    }
   ],
   "source": [
    "def non_anim0(F):\n",
    "    return And( F(s)<=0 , Not(exit(s)) )\n",
    "\n",
    "def non_anim1(F):\n",
    "    return And( trans(s,w), F(s)<=F(w), Not(exit(s)) )\n",
    "    \n",
    "def non_anima(F):\n",
    "    return Or( non_anim0(F), non_anim1(F))\n",
    "\n",
    "test(non_anima(f))"
   ]
  },
  {
   "cell_type": "markdown",
   "metadata": {},
   "source": [
    "c)  \n",
    "## Indução\n",
    "\n",
    "Tendo em conta as conclusões de 1.b) temos a simples indução pela proposição non_universal.\n",
    "\n",
    "Pela definição de k-indução, temos que para qualquer proposição, P relativa a um estado s, se:\n",
    "\n",
    "1. $init(s)\\rightarrow P(s)$  \n",
    "2. $k-trans(s,w) \\wedge P(s)\\rightarrow P(w)$ \n",
    "\n",
    "Com $k-trans(x,y) \\equiv \\exists_{x_1,..,x_k}. x_1=x \\wedge x_k=y \\wedge  \\bigwedge_{i=1}^{k-1}\\big(trans(x_i,x_{i+1})\\big)$\n",
    "\n",
    "são tautologias, então $\\forall_{s}.P(s)$.\n",
    "\n",
    "1. $init(s) \\wedge \\neg P(s)$\n",
    "2. $k-trans(s,w) \\wedge P(s)\\wedge \\neg P(w)$\n",
    "\n",
    "são insatisfazíveis (i.e. *unsat*)."
   ]
  },
  {
   "cell_type": "code",
   "execution_count": 36,
   "metadata": {},
   "outputs": [
    {
     "name": "stdout",
     "output_type": "stream",
     "text": [
      "unsat\n"
     ]
    }
   ],
   "source": [
    "def trans_k(k,s,w):\n",
    "    v = []\n",
    "    for i in range(1,k+1):\n",
    "        v.append(Const('v_'+str(i), Estado))\n",
    "    \n",
    "    f = True\n",
    "    for i in range(k-1):\n",
    "        f = And(f,trans(v[i],v[i+1]))\n",
    "        \n",
    "    \n",
    "    return And(s==v[0], w==v[k-1], f)\n",
    "\n",
    "def non_safe_k(k,P):\n",
    "  return And( trans_k(k,s,w), P(s), Not(P(w)) )\n",
    "\n",
    "def non_universal_k(k,P):\n",
    "  return Or( non_rooted(P), non_safe_k(k,P))\n",
    "\n",
    "test(non_universal_k(2,inv))"
   ]
  },
  {
   "cell_type": "markdown",
   "metadata": {},
   "source": [
    "# 2\n",
    "Passar codigo de Euclides para FOTS\n",
    "\n",
    "## Codificar o algoritmo de Euclides\n",
    "\n",
    "0: $assert\\quad a > 0\\quad and\\quad b > 0$  \n",
    "1: $while\\quad a > 0\\quad and\\quad b > 0:$  \n",
    "2: $\\hspace{1cm}if\\quad b > a$  \n",
    "3: $\\hspace{2cm}b = b - a$  \n",
    "4: $\\hspace{1cm}else:$  \n",
    "5: $\\hspace{2cm}a = a - b$    \n",
    "6: $pass$   \n",
    "\n",
    "\n",
    "$\\hspace{2cm}\\Downarrow$\n",
    "\n",
    "(imagem do automato)\n",
    "\n",
    "\n",
    "* **var1** e **var2** representam respetivamente a e b do código acima;  \n",
    "* **place** representa o estado;        \n",
    "* **N** representa o numero de estados usados no algoritmo acima;\n",
    "\n",
    "Nota: todos os estados referidos acima são estados de um grafo que representa o algoritmo acima"
   ]
  },
  {
   "cell_type": "code",
   "execution_count": null,
   "metadata": {
    "collapsed": true
   },
   "outputs": [],
   "source": [
    "\n",
    "from z3 import *\n",
    "\n",
    "Modes, (var1, var2, place) = EnumSort('Modes', ['var1', 'var2', 'place'])\n",
    "Estado = ArraySort(Modes, IntSort())\n",
    "\n",
    "N = 3\n",
    "\n",
    "s = Const('s', Estado)\n",
    "w = Const('w', Estado)\n"
   ]
  },
  {
   "cell_type": "markdown",
   "metadata": {},
   "source": [
    "#### inv"
   ]
  },
  {
   "cell_type": "code",
   "execution_count": null,
   "metadata": {
    "collapsed": true
   },
   "outputs": [],
   "source": [
    "def inv(s):\n",
    "  l = s[place]\n",
    "  return And(l>=0, l<N )\n"
   ]
  },
  {
   "cell_type": "markdown",
   "metadata": {},
   "source": [
    "#### init\n"
   ]
  },
  {
   "cell_type": "code",
   "execution_count": null,
   "metadata": {
    "collapsed": true
   },
   "outputs": [],
   "source": [
    "def init(s):\n",
    "  l = s[place]\n",
    "  return( l==0 )"
   ]
  },
  {
   "cell_type": "markdown",
   "metadata": {},
   "source": [
    "#### trans"
   ]
  },
  {
   "cell_type": "code",
   "execution_count": null,
   "metadata": {
    "collapsed": true
   },
   "outputs": [],
   "source": [
    "def trans(u,v):\n",
    "  #(a, b, l) = u \n",
    "  a = u[var1]; b = u[var2]; l = u[place];\n",
    "  #(a_, b_, l_) = v\n",
    "  a_ = v[var1]; b_ = v[var2]; l_ = v[place];\n",
    "  return Or(\n",
    "              And(l == 0 , l_ == 1 , a > 0 , b > 0 , a_ == a , b_ == b),\n",
    "              And(l == 1 , l_ == 1 , a > 0 , b > a , a_ == a , b_ == b - a),\n",
    "              And(l == 1 , l_ == 1 , a >= b , b > 0 , a_ == a - b , b_ == b),\n",
    "              And(l == 1 , l_ == 2 , a == 0 , b > 0 , a_ == a , b_ == b)\n",
    "            )\n"
   ]
  },
  {
   "cell_type": "markdown",
   "metadata": {},
   "source": [
    "#### Exit"
   ]
  },
  {
   "cell_type": "code",
   "execution_count": null,
   "metadata": {
    "collapsed": true
   },
   "outputs": [],
   "source": [
    "def exit(s):\n",
    "    l = s[place]; a = s[var1]; b = s[var2];\n",
    "    return Or( a<0, b<=0, l<0, l>2)"
   ]
  },
  {
   "cell_type": "markdown",
   "metadata": {},
   "source": [
    "#### Função de estado"
   ]
  },
  {
   "cell_type": "code",
   "execution_count": null,
   "metadata": {
    "collapsed": true
   },
   "outputs": [],
   "source": [
    "def f(s):\n",
    "    return s[var1]+s[var2]+2-s[place]\n",
    "    "
   ]
  }
 ],
 "metadata": {
  "kernelspec": {
   "display_name": "Python 3",
   "language": "python",
   "name": "python3"
  },
  "language_info": {
   "codemirror_mode": {
    "name": "ipython",
    "version": 3
   },
   "file_extension": ".py",
   "mimetype": "text/x-python",
   "name": "python",
   "nbconvert_exporter": "python",
   "pygments_lexer": "ipython3",
   "version": "3.6.2"
  }
 },
 "nbformat": 4,
 "nbformat_minor": 2
}
