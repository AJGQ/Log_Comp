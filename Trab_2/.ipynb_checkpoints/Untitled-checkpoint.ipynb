{
 "cells": [
  {
   "cell_type": "markdown",
   "metadata": {},
   "source": [
    "# 1\n",
    "FOTS -> SMT\n",
    "\n",
    "## Codificar o algoritmo de Euclides\n",
    "\n",
    "0: assert a > 0 and b > 0  \n",
    "1: while a > 0 and b > 0:  \n",
    "2:    if b > a  \n",
    "3:       b = b - a  \n",
    "4:    else:  \n",
    "5:       a = a - b    \n",
    "6: pass   \n",
    "\n",
    "\n",
    "var1 e var2 representam respetivamente a e b do codigo acima  \n",
    "place representa o numero da linha do codigo acima  \n",
    "N representa o numero de linhas usadas no algoritmo acima  "
   ]
  },
  {
   "cell_type": "code",
   "execution_count": 10,
   "metadata": {},
   "outputs": [
    {
     "name": "stdout",
     "output_type": "stream",
     "text": [
      "\n"
     ]
    }
   ],
   "source": [
    "\n",
    "from z3 import *\n",
    "\n",
    "Modes, (var1, var2, place) = EnumSort('Modes', ['var1', 'var2', 'place'])\n",
    "Estado = ArraySort(Modes, IntSort())\n",
    "\n",
    "N = 7\n",
    "\n",
    "s = Const('s', Estado)\n",
    "w = Const('w', Estado)\n",
    "\n",
    "\n",
    "\n",
    "\n",
    "\n",
    "'''\n",
    "from z3 import *\n",
    "\n",
    "\n",
    "Modes, (Start, On, Off) = EnumSort('Modes',['Start', 'On','Off'])\n",
    "Events, (start, turnOn , turnOff , alive , dead) = EnumSort('Events',['start', 'turnOn', 'turnOff' , 'alive' , 'dead'])\n",
    "\n",
    "N = 10\n",
    "\n",
    "temp = RealVector('x', N+1)\n",
    "time = RealVector('t', N+1)\n",
    "\n",
    "modes = AstVector(); modes.resize(N+1)\n",
    "events = AstVector(); events.resize(N+1)\n",
    "\n",
    "for k in range(N+1):\n",
    "    modes[k] = Const('loc_' + str(k), Modes)\n",
    "    events[k] = Const('ev_'+str(k), Events)\n",
    "    \n",
    "def init(S):\n",
    "    (X,T,M) = S\n",
    "    return And(T == 0, M == Start)\n",
    "\n",
    "def inv(S):\n",
    "    (X,T,M) = S\n",
    "    return If(M == On, X <= 22 , X >= 18)\n",
    "\n",
    "def timed(S,S_,E):\n",
    "    (X,T,M) = S ; (X_,T_,M_) = S_\n",
    "    return And(\n",
    "                T_ == T ,\n",
    "                Implies( M == On , And( M_ == Off , E == turnOff , X_ > 21)),\n",
    "                Implies( M == Off , And( M_ == On , E == turnOn , X_ < 19)),\n",
    "                Implies( M == Start , And( M_ == Off , E == start , X_ == 20))\n",
    "              )\n",
    "\n",
    "def untimed(S,S_,E):\n",
    "    (X,T,M) = S ; (X_,T_,M_) = S_\n",
    "    return And(\n",
    "                T_ == T ,\n",
    "                Implies( M == On , And( M_ == Off , E == turnOff , X_ > 21)),\n",
    "                Implies( M == Off , And( M_ == On , E == turnOn , X_ < 19)),\n",
    "                Implies( M == Start , And( M_ == Off , E == start , X_ == 20))\n",
    "              )\n",
    "\n",
    "def trans(S,S_,E):\n",
    "    return Or(untimed(S,S_,E) , timed(S,S_,E))\n",
    "\n",
    "def S(k):\n",
    "    return (temp[k],time[k],modes[k])\n",
    "def E(k):\n",
    "    return events[k]\n",
    "\n",
    "s = Solver()\n",
    "s.add(init(S(0)))\n",
    "\n",
    "for k in range(N):\n",
    "    s.add(inv(S(k)))\n",
    "    s.add(trans(S(k),S(k+1),E(k)))\n",
    "\n",
    "s.add(inv(S(N)))\n",
    "\n",
    "print(s.check())\n",
    "\n",
    "try:\n",
    "    print(s.model())\n",
    "except Z3Exception as ex:\n",
    "    print(\"failed: %s\" % ex)\n",
    "'''\n",
    "print()"
   ]
  },
  {
   "cell_type": "markdown",
   "metadata": {},
   "source": [
    "inv"
   ]
  },
  {
   "cell_type": "code",
   "execution_count": 11,
   "metadata": {
    "collapsed": true
   },
   "outputs": [],
   "source": [
    "def inv(s):\n",
    "  l = s[place]\n",
    "  return(l in range(N))\n"
   ]
  },
  {
   "cell_type": "markdown",
   "metadata": {},
   "source": [
    "init\n"
   ]
  },
  {
   "cell_type": "code",
   "execution_count": 12,
   "metadata": {
    "collapsed": true
   },
   "outputs": [],
   "source": [
    "def init(s):\n",
    "  l = s[place]\n",
    "  return( l==0 )"
   ]
  },
  {
   "cell_type": "markdown",
   "metadata": {},
   "source": [
    "trans"
   ]
  },
  {
   "cell_type": "code",
   "execution_count": 13,
   "metadata": {},
   "outputs": [],
   "source": [
    "def trans(u,v):\n",
    "  #(a, b, l) = u \n",
    "  a = u[var1]; b = u[var2]; l = u[place];\n",
    "  #(a_, b_, l_) = v\n",
    "  a_ = v[var1]; b_ = v[var2]; l_ = v[place];\n",
    "  return Or(\n",
    "              And(l == 0 , l_ == 1 , a > 0 , b > 0 , a_ == a , b_ == b),\n",
    "              And(l == 1 , l_ == 2 , a > 0 , b > 0 , a_ == a , b_ == b),\n",
    "              And(l == 2 , l_ == 3 , a > 0 , b > a , a_ == a , b_ == b),\n",
    "              And(l == 3 , l_ == 1 , a > 0 , b > a , a_ == a , b_ == b - a),\n",
    "              And(l == 2 , l_ == 4 , a > 0 , b > 0 , a_ == a , b_ == b),\n",
    "              And(l == 4 , l_ == 5 , a >= b , b > 0 , a_ == a , b_ == b),\n",
    "              And(l == 5 , l_ == 1 , a >= b , b > 0 , a_ == a - b , b_ == b),\n",
    "              And(l == 1 , l_ == 6 , a == 0 , b > 0 , a_ == a , b_ == b)\n",
    "            )\n"
   ]
  },
  {
   "cell_type": "markdown",
   "metadata": {},
   "source": [
    "# 2\n",
    "\n"
   ]
  },
  {
   "cell_type": "code",
   "execution_count": null,
   "metadata": {
    "collapsed": true
   },
   "outputs": [],
   "source": []
  },
  {
   "cell_type": "code",
   "execution_count": null,
   "metadata": {
    "collapsed": true
   },
   "outputs": [],
   "source": []
  }
 ],
 "metadata": {
  "kernelspec": {
   "display_name": "Python 3",
   "language": "python",
   "name": "python3"
  },
  "language_info": {
   "codemirror_mode": {
    "name": "ipython",
    "version": 3
   },
   "file_extension": ".py",
   "mimetype": "text/x-python",
   "name": "python",
   "nbconvert_exporter": "python",
   "pygments_lexer": "ipython3",
   "version": "3.5.2"
  }
 },
 "nbformat": 4,
 "nbformat_minor": 2
}
